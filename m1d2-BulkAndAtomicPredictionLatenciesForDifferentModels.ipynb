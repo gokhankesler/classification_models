{
 "cells": [
  {
   "cell_type": "code",
   "execution_count": 1,
   "metadata": {},
   "outputs": [],
   "source": [
    "import gc\n",
    "import time\n",
    "\n",
    "import numpy as np\n",
    "import pandas as pd\n",
    "import matplotlib.pyplot as plt\n",
    "import seaborn as sns\n",
    "\n",
    "import sklearn\n",
    "from sklearn.datasets import make_regression\n",
    "from sklearn.metrics import r2_score\n",
    "from sklearn.model_selection import train_test_split\n",
    "from sklearn.preprocessing import StandardScaler\n",
    "\n",
    "from sklearn.linear_model import LinearRegression\n",
    "from sklearn.linear_model import Lasso\n",
    "from sklearn.linear_model.stochastic_gradient import SGDRegressor\n",
    "from sklearn.svm.classes import SVR\n",
    "from sklearn.tree import DecisionTreeRegressor\n",
    "from sklearn.ensemble.forest import RandomForestRegressor"
   ]
  },
  {
   "cell_type": "markdown",
   "metadata": {},
   "source": [
    "### Prediction latencies\n",
    "\n",
    "https://scikit-learn.org/stable/auto_examples/applications/plot_prediction_latency.html#sphx-glr-auto-examples-applications-plot-prediction-latency-py"
   ]
  },
  {
   "cell_type": "code",
   "execution_count": 2,
   "metadata": {},
   "outputs": [],
   "source": [
    "def generate_dataset(n_samples, n_features, noise=0.1):\n",
    "    \n",
    "    print(\"generating dataset...\")\n",
    "\n",
    "    X, y, coef = make_regression(n_samples=n_samples,\n",
    "                                 n_features=n_features, \n",
    "                                 noise=noise, coef=True)\n",
    "\n",
    "    X_train, X_test, y_train, y_test = train_test_split(\n",
    "        X, y, test_size=0.2, random_state=5)\n",
    "\n",
    "    X_scaler = StandardScaler()\n",
    "    X_train = X_scaler.fit_transform(X_train)\n",
    "    X_test = X_scaler.transform(X_test)\n",
    "\n",
    "    y_scaler = StandardScaler()\n",
    "    y_train = y_scaler.fit_transform(y_train[:, None])[:, 0]\n",
    "    y_test = y_scaler.transform(y_test[:, None])[:, 0]\n",
    "\n",
    "    gc.collect()\n",
    "    \n",
    "    print('dataset generation complete...')\n",
    "    \n",
    "    return X_train, y_train, X_test, y_test"
   ]
  },
  {
   "cell_type": "code",
   "execution_count": 3,
   "metadata": {},
   "outputs": [],
   "source": [
    "def build_and_train_model(X_train, y_train, model):\n",
    "    \n",
    "    model.fit(X_train, y_train)"
   ]
  },
  {
   "cell_type": "code",
   "execution_count": 4,
   "metadata": {},
   "outputs": [
    {
     "name": "stdout",
     "output_type": "stream",
     "text": [
      "generating dataset...\n",
      "dataset generation complete...\n"
     ]
    }
   ],
   "source": [
    "X_train, y_train, X_test, y_test = generate_dataset(10000, 100)"
   ]
  },
  {
   "cell_type": "code",
   "execution_count": 5,
   "metadata": {},
   "outputs": [
    {
     "data": {
      "text/plain": [
       "((8000, 100), (8000,))"
      ]
     },
     "execution_count": 5,
     "metadata": {},
     "output_type": "execute_result"
    }
   ],
   "source": [
    "X_train.shape, y_train.shape"
   ]
  },
  {
   "cell_type": "code",
   "execution_count": 6,
   "metadata": {},
   "outputs": [
    {
     "data": {
      "text/plain": [
       "((2000, 100), (2000,))"
      ]
     },
     "execution_count": 6,
     "metadata": {},
     "output_type": "execute_result"
    }
   ],
   "source": [
    "X_test.shape, y_test.shape"
   ]
  },
  {
   "cell_type": "code",
   "execution_count": 9,
   "metadata": {},
   "outputs": [],
   "source": [
    "linear_model = LinearRegression()\n",
    "\n",
    "lasso_model = Lasso(alpha=0.8)\n",
    "\n",
    "sgd_model = SGDRegressor(penalty='elasticnet', alpha=0.01,\n",
    "                         l1_ratio=0.25, tol=1e-4)\n",
    "\n",
    "sv_model = SVR(kernel='rbf', gamma='scale')\n",
    "\n",
    "dt_model = DecisionTreeRegressor(max_depth=10)\n",
    "\n",
    "rf_model = RandomForestRegressor(n_estimators=20)"
   ]
  },
  {
   "cell_type": "code",
   "execution_count": 10,
   "metadata": {},
   "outputs": [],
   "source": [
    "build_and_train_model(X_train, y_train, linear_model)\n",
    "\n",
    "build_and_train_model(X_train, y_train, lasso_model)\n",
    "\n",
    "build_and_train_model(X_train, y_train, sgd_model)\n",
    "\n",
    "build_and_train_model(X_train, y_train, sv_model)\n",
    "\n",
    "build_and_train_model(X_train, y_train, dt_model)\n",
    "\n",
    "build_and_train_model(X_train, y_train, rf_model)"
   ]
  },
  {
   "cell_type": "code",
   "execution_count": 11,
   "metadata": {},
   "outputs": [],
   "source": [
    "def bulk_predict_using_model(X_test, y_test, model):\n",
    "    \n",
    "    prediction_latencies = []\n",
    "    \n",
    "    for i in range(20):\n",
    "        start = time.time()\n",
    "        y_pred = model.predict(X_test)\n",
    "        \n",
    "        prediction_latencies.append(time.time() - start)\n",
    "        \n",
    "   \n",
    "    return prediction_latencies"
   ]
  },
  {
   "cell_type": "code",
   "execution_count": 12,
   "metadata": {},
   "outputs": [],
   "source": [
    "bulk_prediction_latencies_dict = {}"
   ]
  },
  {
   "cell_type": "code",
   "execution_count": 13,
   "metadata": {},
   "outputs": [],
   "source": [
    "bulk_prediction_latencies_dict['linear'] = bulk_predict_using_model(X_test, \n",
    "                                                                    y_test, \n",
    "                                                                    linear_model)\n",
    "\n",
    "bulk_prediction_latencies_dict['lasso'] = bulk_predict_using_model(X_test, \n",
    "                                                                   y_test, \n",
    "                                                                   lasso_model)\n",
    "\n",
    "bulk_prediction_latencies_dict['sgd'] = bulk_predict_using_model(X_test, \n",
    "                                                                 y_test, \n",
    "                                                                 sgd_model)\n",
    "\n",
    "bulk_prediction_latencies_dict['sv'] = bulk_predict_using_model(X_test, \n",
    "                                                                y_test, \n",
    "                                                                sv_model)\n",
    "\n",
    "bulk_prediction_latencies_dict['dt'] = bulk_predict_using_model(X_test, \n",
    "                                                                y_test, \n",
    "                                                                dt_model)\n",
    "\n",
    "bulk_prediction_latencies_dict['rf'] = bulk_predict_using_model(X_test, \n",
    "                                                                y_test, \n",
    "                                                                rf_model)"
   ]
  },
  {
   "cell_type": "code",
   "execution_count": 14,
   "metadata": {},
   "outputs": [],
   "source": [
    "bulk_prediction_latencies_df = pd.DataFrame()\n",
    "\n",
    "for key in bulk_prediction_latencies_dict:\n",
    "    bulk_prediction_latencies_df[key] = bulk_prediction_latencies_dict[key]"
   ]
  },
  {
   "cell_type": "code",
   "execution_count": 15,
   "metadata": {},
   "outputs": [
    {
     "data": {
      "text/html": [
       "<div>\n",
       "<style scoped>\n",
       "    .dataframe tbody tr th:only-of-type {\n",
       "        vertical-align: middle;\n",
       "    }\n",
       "\n",
       "    .dataframe tbody tr th {\n",
       "        vertical-align: top;\n",
       "    }\n",
       "\n",
       "    .dataframe thead th {\n",
       "        text-align: right;\n",
       "    }\n",
       "</style>\n",
       "<table border=\"1\" class=\"dataframe\">\n",
       "  <thead>\n",
       "    <tr style=\"text-align: right;\">\n",
       "      <th></th>\n",
       "      <th>linear</th>\n",
       "      <th>lasso</th>\n",
       "      <th>sgd</th>\n",
       "      <th>sv</th>\n",
       "      <th>dt</th>\n",
       "      <th>rf</th>\n",
       "    </tr>\n",
       "  </thead>\n",
       "  <tbody>\n",
       "    <tr>\n",
       "      <td>0</td>\n",
       "      <td>0.002303</td>\n",
       "      <td>0.002718</td>\n",
       "      <td>0.000414</td>\n",
       "      <td>0.744678</td>\n",
       "      <td>0.001260</td>\n",
       "      <td>0.015284</td>\n",
       "    </tr>\n",
       "    <tr>\n",
       "      <td>1</td>\n",
       "      <td>0.004138</td>\n",
       "      <td>0.000501</td>\n",
       "      <td>0.000316</td>\n",
       "      <td>0.722015</td>\n",
       "      <td>0.000693</td>\n",
       "      <td>0.012461</td>\n",
       "    </tr>\n",
       "    <tr>\n",
       "      <td>2</td>\n",
       "      <td>0.000617</td>\n",
       "      <td>0.000347</td>\n",
       "      <td>0.000294</td>\n",
       "      <td>0.731410</td>\n",
       "      <td>0.000681</td>\n",
       "      <td>0.011231</td>\n",
       "    </tr>\n",
       "    <tr>\n",
       "      <td>3</td>\n",
       "      <td>0.001090</td>\n",
       "      <td>0.000542</td>\n",
       "      <td>0.000286</td>\n",
       "      <td>0.915748</td>\n",
       "      <td>0.000712</td>\n",
       "      <td>0.010175</td>\n",
       "    </tr>\n",
       "    <tr>\n",
       "      <td>4</td>\n",
       "      <td>0.000588</td>\n",
       "      <td>0.000458</td>\n",
       "      <td>0.000279</td>\n",
       "      <td>0.738948</td>\n",
       "      <td>0.000688</td>\n",
       "      <td>0.011845</td>\n",
       "    </tr>\n",
       "    <tr>\n",
       "      <td>5</td>\n",
       "      <td>0.000420</td>\n",
       "      <td>0.000362</td>\n",
       "      <td>0.000279</td>\n",
       "      <td>0.926043</td>\n",
       "      <td>0.000677</td>\n",
       "      <td>0.012174</td>\n",
       "    </tr>\n",
       "    <tr>\n",
       "      <td>6</td>\n",
       "      <td>0.000326</td>\n",
       "      <td>0.000330</td>\n",
       "      <td>0.000283</td>\n",
       "      <td>0.803290</td>\n",
       "      <td>0.000644</td>\n",
       "      <td>0.010332</td>\n",
       "    </tr>\n",
       "    <tr>\n",
       "      <td>7</td>\n",
       "      <td>0.000309</td>\n",
       "      <td>0.000362</td>\n",
       "      <td>0.000293</td>\n",
       "      <td>0.691721</td>\n",
       "      <td>0.000676</td>\n",
       "      <td>0.011210</td>\n",
       "    </tr>\n",
       "    <tr>\n",
       "      <td>8</td>\n",
       "      <td>0.000498</td>\n",
       "      <td>0.000317</td>\n",
       "      <td>0.000298</td>\n",
       "      <td>0.680025</td>\n",
       "      <td>0.000695</td>\n",
       "      <td>0.010650</td>\n",
       "    </tr>\n",
       "    <tr>\n",
       "      <td>9</td>\n",
       "      <td>0.000530</td>\n",
       "      <td>0.000554</td>\n",
       "      <td>0.000328</td>\n",
       "      <td>0.689053</td>\n",
       "      <td>0.000827</td>\n",
       "      <td>0.010710</td>\n",
       "    </tr>\n",
       "    <tr>\n",
       "      <td>10</td>\n",
       "      <td>0.000503</td>\n",
       "      <td>0.000641</td>\n",
       "      <td>0.000345</td>\n",
       "      <td>0.690794</td>\n",
       "      <td>0.000835</td>\n",
       "      <td>0.011418</td>\n",
       "    </tr>\n",
       "    <tr>\n",
       "      <td>11</td>\n",
       "      <td>0.000493</td>\n",
       "      <td>0.000405</td>\n",
       "      <td>0.000362</td>\n",
       "      <td>0.681754</td>\n",
       "      <td>0.000753</td>\n",
       "      <td>0.010734</td>\n",
       "    </tr>\n",
       "    <tr>\n",
       "      <td>12</td>\n",
       "      <td>0.003183</td>\n",
       "      <td>0.000521</td>\n",
       "      <td>0.000331</td>\n",
       "      <td>0.695294</td>\n",
       "      <td>0.000674</td>\n",
       "      <td>0.010449</td>\n",
       "    </tr>\n",
       "    <tr>\n",
       "      <td>13</td>\n",
       "      <td>0.000697</td>\n",
       "      <td>0.000507</td>\n",
       "      <td>0.000308</td>\n",
       "      <td>0.677763</td>\n",
       "      <td>0.000708</td>\n",
       "      <td>0.011559</td>\n",
       "    </tr>\n",
       "    <tr>\n",
       "      <td>14</td>\n",
       "      <td>0.000576</td>\n",
       "      <td>0.000546</td>\n",
       "      <td>0.000311</td>\n",
       "      <td>0.684176</td>\n",
       "      <td>0.000647</td>\n",
       "      <td>0.012000</td>\n",
       "    </tr>\n",
       "    <tr>\n",
       "      <td>15</td>\n",
       "      <td>0.000565</td>\n",
       "      <td>0.000542</td>\n",
       "      <td>0.000463</td>\n",
       "      <td>0.676943</td>\n",
       "      <td>0.000619</td>\n",
       "      <td>0.011135</td>\n",
       "    </tr>\n",
       "    <tr>\n",
       "      <td>16</td>\n",
       "      <td>0.000560</td>\n",
       "      <td>0.000527</td>\n",
       "      <td>0.000922</td>\n",
       "      <td>0.711297</td>\n",
       "      <td>0.000614</td>\n",
       "      <td>0.010630</td>\n",
       "    </tr>\n",
       "    <tr>\n",
       "      <td>17</td>\n",
       "      <td>0.000542</td>\n",
       "      <td>0.000537</td>\n",
       "      <td>0.000539</td>\n",
       "      <td>0.681788</td>\n",
       "      <td>0.000606</td>\n",
       "      <td>0.011141</td>\n",
       "    </tr>\n",
       "    <tr>\n",
       "      <td>18</td>\n",
       "      <td>0.000567</td>\n",
       "      <td>0.000511</td>\n",
       "      <td>0.001645</td>\n",
       "      <td>0.716289</td>\n",
       "      <td>0.000620</td>\n",
       "      <td>0.011176</td>\n",
       "    </tr>\n",
       "    <tr>\n",
       "      <td>19</td>\n",
       "      <td>0.000514</td>\n",
       "      <td>0.000648</td>\n",
       "      <td>0.000740</td>\n",
       "      <td>0.687748</td>\n",
       "      <td>0.000617</td>\n",
       "      <td>0.011037</td>\n",
       "    </tr>\n",
       "  </tbody>\n",
       "</table>\n",
       "</div>"
      ],
      "text/plain": [
       "      linear     lasso       sgd        sv        dt        rf\n",
       "0   0.002303  0.002718  0.000414  0.744678  0.001260  0.015284\n",
       "1   0.004138  0.000501  0.000316  0.722015  0.000693  0.012461\n",
       "2   0.000617  0.000347  0.000294  0.731410  0.000681  0.011231\n",
       "3   0.001090  0.000542  0.000286  0.915748  0.000712  0.010175\n",
       "4   0.000588  0.000458  0.000279  0.738948  0.000688  0.011845\n",
       "5   0.000420  0.000362  0.000279  0.926043  0.000677  0.012174\n",
       "6   0.000326  0.000330  0.000283  0.803290  0.000644  0.010332\n",
       "7   0.000309  0.000362  0.000293  0.691721  0.000676  0.011210\n",
       "8   0.000498  0.000317  0.000298  0.680025  0.000695  0.010650\n",
       "9   0.000530  0.000554  0.000328  0.689053  0.000827  0.010710\n",
       "10  0.000503  0.000641  0.000345  0.690794  0.000835  0.011418\n",
       "11  0.000493  0.000405  0.000362  0.681754  0.000753  0.010734\n",
       "12  0.003183  0.000521  0.000331  0.695294  0.000674  0.010449\n",
       "13  0.000697  0.000507  0.000308  0.677763  0.000708  0.011559\n",
       "14  0.000576  0.000546  0.000311  0.684176  0.000647  0.012000\n",
       "15  0.000565  0.000542  0.000463  0.676943  0.000619  0.011135\n",
       "16  0.000560  0.000527  0.000922  0.711297  0.000614  0.010630\n",
       "17  0.000542  0.000537  0.000539  0.681788  0.000606  0.011141\n",
       "18  0.000567  0.000511  0.001645  0.716289  0.000620  0.011176\n",
       "19  0.000514  0.000648  0.000740  0.687748  0.000617  0.011037"
      ]
     },
     "execution_count": 15,
     "metadata": {},
     "output_type": "execute_result"
    }
   ],
   "source": [
    "bulk_prediction_latencies_df"
   ]
  },
  {
   "cell_type": "code",
   "execution_count": 16,
   "metadata": {},
   "outputs": [
    {
     "data": {
      "text/plain": [
       "<matplotlib.axes._subplots.AxesSubplot at 0x1a16d2d4a8>"
      ]
     },
     "execution_count": 16,
     "metadata": {},
     "output_type": "execute_result"
    },
    {
     "data": {
      "image/png": "[encoded data removed]",
      "text/plain": [
       "<Figure size 720x576 with 1 Axes>"
      ]
     },
     "metadata": {
      "needs_background": "light"
     },
     "output_type": "display_data"
    }
   ],
   "source": [
    "bulk_prediction_latencies_df.boxplot(figsize=(10, 8))"
   ]
  },
  {
   "cell_type": "code",
   "execution_count": 17,
   "metadata": {},
   "outputs": [],
   "source": [
    "def atomic_predict_using_model(X_test, y_test, model):\n",
    "    \n",
    "    prediction_latencies = []\n",
    "    \n",
    "    for i in range(X_test.shape[0]):\n",
    "        start = time.time()\n",
    "        y_pred = model.predict(X_test[i].reshape(1, -1))\n",
    "        \n",
    "        prediction_latencies.append(time.time() - start)\n",
    "        \n",
    "    prediction_latencies = np.array(prediction_latencies)\n",
    "    \n",
    "    return [np.percentile(prediction_latencies, 50)]"
   ]
  },
  {
   "cell_type": "code",
   "execution_count": 18,
   "metadata": {},
   "outputs": [],
   "source": [
    "atomic_prediction_latencies_dict = {}"
   ]
  },
  {
   "cell_type": "code",
   "execution_count": 19,
   "metadata": {},
   "outputs": [],
   "source": [
    "atomic_prediction_latencies_dict['linear'] = atomic_predict_using_model(X_test, \n",
    "                                                                        y_test, \n",
    "                                                                        linear_model)\n",
    "\n",
    "atomic_prediction_latencies_dict['lasso'] = atomic_predict_using_model(X_test, \n",
    "                                                                       y_test, \n",
    "                                                                       lasso_model)\n",
    "\n",
    "atomic_prediction_latencies_dict['sgd'] = atomic_predict_using_model(X_test, \n",
    "                                                                     y_test, \n",
    "                                                                     sgd_model)\n",
    "\n",
    "atomic_prediction_latencies_dict['sv'] = atomic_predict_using_model(X_test, \n",
    "                                                                    y_test, \n",
    "                                                                    sv_model)\n",
    "\n",
    "atomic_prediction_latencies_dict['dt'] = atomic_predict_using_model(X_test, \n",
    "                                                                    y_test, \n",
    "                                                                    dt_model)\n",
    "\n",
    "atomic_prediction_latencies_dict['rf'] = atomic_predict_using_model(X_test, \n",
    "                                                                    y_test, \n",
    "                                                                    rf_model)"
   ]
  },
  {
   "cell_type": "code",
   "execution_count": 20,
   "metadata": {},
   "outputs": [],
   "source": [
    "atomic_prediction_latencies_df = pd.DataFrame()\n",
    "\n",
    "for key in atomic_prediction_latencies_dict:\n",
    "    atomic_prediction_latencies_df[key] = atomic_prediction_latencies_dict[key]"
   ]
  },
  {
   "cell_type": "code",
   "execution_count": 21,
   "metadata": {},
   "outputs": [
    {
     "data": {
      "text/html": [
       "<div>\n",
       "<style scoped>\n",
       "    .dataframe tbody tr th:only-of-type {\n",
       "        vertical-align: middle;\n",
       "    }\n",
       "\n",
       "    .dataframe tbody tr th {\n",
       "        vertical-align: top;\n",
       "    }\n",
       "\n",
       "    .dataframe thead th {\n",
       "        text-align: right;\n",
       "    }\n",
       "</style>\n",
       "<table border=\"1\" class=\"dataframe\">\n",
       "  <thead>\n",
       "    <tr style=\"text-align: right;\">\n",
       "      <th></th>\n",
       "      <th>linear</th>\n",
       "      <th>lasso</th>\n",
       "      <th>sgd</th>\n",
       "      <th>sv</th>\n",
       "      <th>dt</th>\n",
       "      <th>rf</th>\n",
       "    </tr>\n",
       "  </thead>\n",
       "  <tbody>\n",
       "    <tr>\n",
       "      <td>0</td>\n",
       "      <td>0.000044</td>\n",
       "      <td>0.000046</td>\n",
       "      <td>0.000043</td>\n",
       "      <td>0.0005</td>\n",
       "      <td>0.000053</td>\n",
       "      <td>0.001139</td>\n",
       "    </tr>\n",
       "  </tbody>\n",
       "</table>\n",
       "</div>"
      ],
      "text/plain": [
       "     linear     lasso       sgd      sv        dt        rf\n",
       "0  0.000044  0.000046  0.000043  0.0005  0.000053  0.001139"
      ]
     },
     "execution_count": 21,
     "metadata": {},
     "output_type": "execute_result"
    }
   ],
   "source": [
    "atomic_prediction_latencies_df"
   ]
  },
  {
   "cell_type": "code",
   "execution_count": 22,
   "metadata": {},
   "outputs": [
    {
     "data": {
      "text/plain": [
       "[<matplotlib.lines.Line2D at 0x1a1804eef0>]"
      ]
     },
     "execution_count": 22,
     "metadata": {},
     "output_type": "execute_result"
    },
    {
     "data": {
      "image/png": "[encoded data removed]",
      "text/plain": [
       "<Figure size 720x576 with 1 Axes>"
      ]
     },
     "metadata": {
      "needs_background": "light"
     },
     "output_type": "display_data"
    }
   ],
   "source": [
    "plt.figure(figsize=(10, 8))\n",
    "\n",
    "plt.plot(atomic_prediction_latencies_df.iloc[0])"
   ]
  },
  {
   "cell_type": "code",
   "execution_count": null,
   "metadata": {},
   "outputs": [],
   "source": []
  },
  {
   "cell_type": "code",
   "execution_count": null,
   "metadata": {},
   "outputs": [],
   "source": []
  },
  {
   "cell_type": "code",
   "execution_count": null,
   "metadata": {},
   "outputs": [],
   "source": []
  },
  {
   "cell_type": "code",
   "execution_count": null,
   "metadata": {},
   "outputs": [],
   "source": []
  },
  {
   "cell_type": "code",
   "execution_count": null,
   "metadata": {},
   "outputs": [],
   "source": []
  },
  {
   "cell_type": "code",
   "execution_count": null,
   "metadata": {},
   "outputs": [],
   "source": []
  },
  {
   "cell_type": "code",
   "execution_count": null,
   "metadata": {},
   "outputs": [],
   "source": []
  },
  {
   "cell_type": "code",
   "execution_count": null,
   "metadata": {},
   "outputs": [],
   "source": []
  },
  {
   "cell_type": "code",
   "execution_count": null,
   "metadata": {
    "collapsed": true
   },
   "outputs": [],
   "source": []
  },
  {
   "cell_type": "code",
   "execution_count": null,
   "metadata": {
    "collapsed": true
   },
   "outputs": [],
   "source": []
  }
 ],
 "metadata": {
  "kernelspec": {
   "display_name": "Python 3",
   "language": "python",
   "name": "python3"
  },
  "language_info": {
   "codemirror_mode": {
    "name": "ipython",
    "version": 3
   },
   "file_extension": ".py",
   "mimetype": "text/x-python",
   "name": "python",
   "nbconvert_exporter": "python",
   "pygments_lexer": "ipython3",
   "version": "3.6.9"
  }
 },
 "nbformat": 4,
 "nbformat_minor": 2
}
