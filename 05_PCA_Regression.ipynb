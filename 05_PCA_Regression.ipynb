{
 "cells": [
  {
   "cell_type": "markdown",
   "metadata": {},
   "source": [
    "# Feature Selection using PCA\n"
   ]
  },
  {
   "cell_type": "code",
   "execution_count": 9,
   "metadata": {},
   "outputs": [],
   "source": [
    "import numpy as np\n",
    "import pandas as pd\n",
    "import matplotlib.pyplot as plt\n",
    "\n",
    "from sklearn.model_selection import train_test_split\n",
    "\n",
    "from sklearn.linear_model import LinearRegression\n",
    "from sklearn.metrics import r2_score\n",
    "\n",
    "import statsmodels.api as sm"
   ]
  },
  {
   "cell_type": "code",
   "execution_count": 10,
   "metadata": {},
   "outputs": [],
   "source": [
    "from sklearn.datasets import load_boston\n",
    "\n",
    "boston_data = load_boston()"
   ]
  },
  {
   "cell_type": "code",
   "execution_count": 11,
   "metadata": {},
   "outputs": [
    {
     "name": "stdout",
     "output_type": "stream",
     "text": [
      ".. _boston_dataset:\n",
      "\n",
      "Boston house prices dataset\n",
      "---------------------------\n",
      "\n",
      "**Data Set Characteristics:**  \n",
      "\n",
      "    :Number of Instances: 506 \n",
      "\n",
      "    :Number of Attributes: 13 numeric/categorical predictive. Median Value (attribute 14) is usually the target.\n",
      "\n",
      "    :Attribute Information (in order):\n",
      "        - CRIM     per capita crime rate by town\n",
      "        - ZN       proportion of residential land zoned for lots over 25,000 sq.ft.\n",
      "        - INDUS    proportion of non-retail business acres per town\n",
      "        - CHAS     Charles River dummy variable (= 1 if tract bounds river; 0 otherwise)\n",
      "        - NOX      nitric oxides concentration (parts per 10 million)\n",
      "        - RM       average number of rooms per dwelling\n",
      "        - AGE      proportion of owner-occupied units built prior to 1940\n",
      "        - DIS      weighted distances to five Boston employment centres\n",
      "        - RAD      index of accessibility to radial highways\n",
      "        - TAX      full-value property-tax rate per $10,000\n",
      "        - PTRATIO  pupil-teacher ratio by town\n",
      "        - B        1000(Bk - 0.63)^2 where Bk is the proportion of blacks by town\n",
      "        - LSTAT    % lower status of the population\n",
      "        - MEDV     Median value of owner-occupied homes in $1000's\n",
      "\n",
      "    :Missing Attribute Values: None\n",
      "\n",
      "    :Creator: Harrison, D. and Rubinfeld, D.L.\n",
      "\n",
      "This is a copy of UCI ML housing dataset.\n",
      "https://archive.ics.uci.edu/ml/machine-learning-databases/housing/\n",
      "\n",
      "\n",
      "This dataset was taken from the StatLib library which is maintained at Carnegie Mellon University.\n",
      "\n",
      "The Boston house-price data of Harrison, D. and Rubinfeld, D.L. 'Hedonic\n",
      "prices and the demand for clean air', J. Environ. Economics & Management,\n",
      "vol.5, 81-102, 1978.   Used in Belsley, Kuh & Welsch, 'Regression diagnostics\n",
      "...', Wiley, 1980.   N.B. Various transformations are used in the table on\n",
      "pages 244-261 of the latter.\n",
      "\n",
      "The Boston house-price data has been used in many machine learning papers that address regression\n",
      "problems.   \n",
      "     \n",
      ".. topic:: References\n",
      "\n",
      "   - Belsley, Kuh & Welsch, 'Regression diagnostics: Identifying Influential Data and Sources of Collinearity', Wiley, 1980. 244-261.\n",
      "   - Quinlan,R. (1993). Combining Instance-Based and Model-Based Learning. In Proceedings on the Tenth International Conference of Machine Learning, 236-243, University of Massachusetts, Amherst. Morgan Kaufmann.\n",
      "\n"
     ]
    }
   ],
   "source": [
    "print(boston_data.DESCR)"
   ]
  },
  {
   "cell_type": "code",
   "execution_count": 12,
   "metadata": {},
   "outputs": [
    {
     "data": {
      "text/html": [
       "<div>\n",
       "<style scoped>\n",
       "    .dataframe tbody tr th:only-of-type {\n",
       "        vertical-align: middle;\n",
       "    }\n",
       "\n",
       "    .dataframe tbody tr th {\n",
       "        vertical-align: top;\n",
       "    }\n",
       "\n",
       "    .dataframe thead th {\n",
       "        text-align: right;\n",
       "    }\n",
       "</style>\n",
       "<table border=\"1\" class=\"dataframe\">\n",
       "  <thead>\n",
       "    <tr style=\"text-align: right;\">\n",
       "      <th></th>\n",
       "      <th>crime rate</th>\n",
       "      <th>residential land zone</th>\n",
       "      <th>business acres</th>\n",
       "      <th>Charles River</th>\n",
       "      <th>nitric oxides</th>\n",
       "      <th>number of rooms</th>\n",
       "      <th>age</th>\n",
       "      <th>distances to employment centres</th>\n",
       "      <th>accessibility to highways</th>\n",
       "      <th>property-tax</th>\n",
       "      <th>pupil-teacher ratio</th>\n",
       "      <th>lower income levels</th>\n",
       "      <th>Median Home Value</th>\n",
       "    </tr>\n",
       "  </thead>\n",
       "  <tbody>\n",
       "    <tr>\n",
       "      <th>0</th>\n",
       "      <td>0.00632</td>\n",
       "      <td>18.0</td>\n",
       "      <td>2.31</td>\n",
       "      <td>0.0</td>\n",
       "      <td>0.538</td>\n",
       "      <td>6.575</td>\n",
       "      <td>65.2</td>\n",
       "      <td>4.0900</td>\n",
       "      <td>1.0</td>\n",
       "      <td>296.0</td>\n",
       "      <td>15.3</td>\n",
       "      <td>4.98</td>\n",
       "      <td>24.0</td>\n",
       "    </tr>\n",
       "    <tr>\n",
       "      <th>1</th>\n",
       "      <td>0.02731</td>\n",
       "      <td>0.0</td>\n",
       "      <td>7.07</td>\n",
       "      <td>0.0</td>\n",
       "      <td>0.469</td>\n",
       "      <td>6.421</td>\n",
       "      <td>78.9</td>\n",
       "      <td>4.9671</td>\n",
       "      <td>2.0</td>\n",
       "      <td>242.0</td>\n",
       "      <td>17.8</td>\n",
       "      <td>9.14</td>\n",
       "      <td>21.6</td>\n",
       "    </tr>\n",
       "    <tr>\n",
       "      <th>2</th>\n",
       "      <td>0.02729</td>\n",
       "      <td>0.0</td>\n",
       "      <td>7.07</td>\n",
       "      <td>0.0</td>\n",
       "      <td>0.469</td>\n",
       "      <td>7.185</td>\n",
       "      <td>61.1</td>\n",
       "      <td>4.9671</td>\n",
       "      <td>2.0</td>\n",
       "      <td>242.0</td>\n",
       "      <td>17.8</td>\n",
       "      <td>4.03</td>\n",
       "      <td>34.7</td>\n",
       "    </tr>\n",
       "    <tr>\n",
       "      <th>3</th>\n",
       "      <td>0.03237</td>\n",
       "      <td>0.0</td>\n",
       "      <td>2.18</td>\n",
       "      <td>0.0</td>\n",
       "      <td>0.458</td>\n",
       "      <td>6.998</td>\n",
       "      <td>45.8</td>\n",
       "      <td>6.0622</td>\n",
       "      <td>3.0</td>\n",
       "      <td>222.0</td>\n",
       "      <td>18.7</td>\n",
       "      <td>2.94</td>\n",
       "      <td>33.4</td>\n",
       "    </tr>\n",
       "    <tr>\n",
       "      <th>4</th>\n",
       "      <td>0.06905</td>\n",
       "      <td>0.0</td>\n",
       "      <td>2.18</td>\n",
       "      <td>0.0</td>\n",
       "      <td>0.458</td>\n",
       "      <td>7.147</td>\n",
       "      <td>54.2</td>\n",
       "      <td>6.0622</td>\n",
       "      <td>3.0</td>\n",
       "      <td>222.0</td>\n",
       "      <td>18.7</td>\n",
       "      <td>5.33</td>\n",
       "      <td>36.2</td>\n",
       "    </tr>\n",
       "  </tbody>\n",
       "</table>\n",
       "</div>"
      ],
      "text/plain": [
       "   crime rate  residential land zone  business acres  Charles River  \\\n",
       "0     0.00632                   18.0            2.31            0.0   \n",
       "1     0.02731                    0.0            7.07            0.0   \n",
       "2     0.02729                    0.0            7.07            0.0   \n",
       "3     0.03237                    0.0            2.18            0.0   \n",
       "4     0.06905                    0.0            2.18            0.0   \n",
       "\n",
       "   nitric oxides  number of rooms   age  distances to employment centres  \\\n",
       "0          0.538            6.575  65.2                           4.0900   \n",
       "1          0.469            6.421  78.9                           4.9671   \n",
       "2          0.469            7.185  61.1                           4.9671   \n",
       "3          0.458            6.998  45.8                           6.0622   \n",
       "4          0.458            7.147  54.2                           6.0622   \n",
       "\n",
       "   accessibility to highways  property-tax  pupil-teacher ratio  \\\n",
       "0                        1.0         296.0                 15.3   \n",
       "1                        2.0         242.0                 17.8   \n",
       "2                        2.0         242.0                 17.8   \n",
       "3                        3.0         222.0                 18.7   \n",
       "4                        3.0         222.0                 18.7   \n",
       "\n",
       "   lower income levels  Median Home Value  \n",
       "0                 4.98               24.0  \n",
       "1                 9.14               21.6  \n",
       "2                 4.03               34.7  \n",
       "3                 2.94               33.4  \n",
       "4                 5.33               36.2  "
      ]
     },
     "execution_count": 12,
     "metadata": {},
     "output_type": "execute_result"
    }
   ],
   "source": [
    "boston_df = pd.read_csv('datasets/boston.csv')\n",
    "\n",
    "boston_df.head()"
   ]
  },
  {
   "cell_type": "code",
   "execution_count": 13,
   "metadata": {},
   "outputs": [
    {
     "data": {
      "text/plain": [
       "['crime rate',\n",
       " 'residential land zone',\n",
       " 'business acres',\n",
       " 'Charles River',\n",
       " 'nitric oxides',\n",
       " 'number of rooms',\n",
       " 'age',\n",
       " 'distances to employment centres',\n",
       " 'accessibility to highways',\n",
       " 'property-tax',\n",
       " 'pupil-teacher ratio',\n",
       " 'lower income levels']"
      ]
     },
     "execution_count": 13,
     "metadata": {},
     "output_type": "execute_result"
    }
   ],
   "source": [
    "FEATURES = list(boston_df.columns[:-1])\n",
    "\n",
    "FEATURES"
   ]
  },
  {
   "cell_type": "markdown",
   "metadata": {},
   "source": [
    "## Apply PCA\n",
    "* PCA: Linear dimensionality reduction using Singular Value Decomposition of the data to project it to a lower dimensional space.\n",
    "* explained_variance_ : The amount of variance explained by each of the selected components.\n",
    "* components_ : Principal axes in feature space, representing the directions of maximum variance in the data.\n",
    "* fit_transform : Fit the model with X and apply the dimensionality reduction on X\n",
    "\n",
    "https://scikit-learn.org/stable/modules/generated/sklearn.decomposition.PCA.html"
   ]
  },
  {
   "cell_type": "code",
   "execution_count": 23,
   "metadata": {},
   "outputs": [],
   "source": [
    "from sklearn.decomposition import PCA\n",
    "\n",
    "def apply_pca(X, n, add_constant = False):\n",
    "    \n",
    "    pca = PCA(n_components = n)  \n",
    "    x_new = pca.fit_transform(X)\n",
    "    \n",
    "    if add_constant is True:\n",
    "        x_new = sm.add_constant(x_new)    \n",
    "        \n",
    "    return pca, pd.DataFrame(x_new)"
   ]
  },
  {
   "cell_type": "code",
   "execution_count": 24,
   "metadata": {},
   "outputs": [],
   "source": [
    "pca, _ = apply_pca(boston_df[FEATURES], len(FEATURES))"
   ]
  },
  {
   "cell_type": "code",
   "execution_count": 21,
   "metadata": {},
   "outputs": [
    {
     "name": "stdout",
     "output_type": "stream",
     "text": [
      "Explained Variance: [9.60040728e-01 2.73884414e-02 8.89341069e-03 1.72579506e-03\n",
      " 9.36295702e-04 5.35816960e-04 3.19581712e-04 1.09868221e-04\n",
      " 3.93666446e-05 8.58505778e-06 2.00834312e-06 1.02396314e-07]\n"
     ]
    }
   ],
   "source": [
    "print(\"Explained Variance:\", pca.explained_variance_ratio_)"
   ]
  },
  {
   "cell_type": "code",
   "execution_count": 22,
   "metadata": {},
   "outputs": [
    {
     "data": {
      "text/plain": [
       "1.0"
      ]
     },
     "execution_count": 22,
     "metadata": {},
     "output_type": "execute_result"
    }
   ],
   "source": [
    "sum(pca.explained_variance_ratio_)"
   ]
  },
  {
   "cell_type": "code",
   "execution_count": 18,
   "metadata": {},
   "outputs": [
    {
     "data": {
      "image/png": "[encoded data removed]",
      "text/plain": [
       "<Figure size 864x720 with 1 Axes>"
      ]
     },
     "metadata": {
      "needs_background": "light"
     },
     "output_type": "display_data"
    }
   ],
   "source": [
    "plt.figure(figsize = (12,10))\n",
    "\n",
    "plt.plot(np.cumsum(pca.explained_variance_ratio_))\n",
    "\n",
    "plt.xlabel('n components')\n",
    "plt.ylabel('cumulative variance');"
   ]
  },
  {
   "cell_type": "markdown",
   "metadata": {},
   "source": [
    "## Build Model"
   ]
  },
  {
   "cell_type": "code",
   "execution_count": 11,
   "metadata": {},
   "outputs": [],
   "source": [
    "def build_model(regression_fn,                \n",
    "                target, \n",
    "                features, \n",
    "                dataset,\n",
    "                *hyperparameters):\n",
    "    \n",
    "    X = dataset[features]\n",
    "    Y = dataset[target]\n",
    "\n",
    "    _ , X_new = apply_pca(X, *hyperparameters)\n",
    "\n",
    "    x_train, x_test, y_train, y_test = train_test_split(X_new, Y, test_size=0.2)\n",
    "    \n",
    "    model = regression_fn(x_train, y_train)\n",
    "    \n",
    "    y_pred = model.predict(x_test)\n",
    "  \n",
    "    \n",
    "    return {\n",
    "            'x_initial' : X,\n",
    "            'x_transform': X_new,\n",
    "            'x_train' : x_train,\n",
    "            'x_test'  : x_test, \n",
    "            'y_train' : y_train,\n",
    "            'y_test'  : y_test,\n",
    "            'y_pred'  : y_pred,\n",
    "            'model'   : model\n",
    "           }     "
   ]
  },
  {
   "cell_type": "code",
   "execution_count": 12,
   "metadata": {},
   "outputs": [],
   "source": [
    "def ols_reg(x_train, y_train):\n",
    "    \n",
    "    ols = sm.OLS(y_train, x_train)\n",
    "    \n",
    "    model = ols.fit()\n",
    "    \n",
    "    return model"
   ]
  },
  {
   "cell_type": "code",
   "execution_count": 13,
   "metadata": {},
   "outputs": [],
   "source": [
    "def linear_reg(x_train, y_train):\n",
    "    \n",
    "    model = LinearRegression().fit(x_train, y_train)\n",
    "    \n",
    "    return model"
   ]
  },
  {
   "cell_type": "markdown",
   "metadata": {},
   "source": [
    "## Statsmodel "
   ]
  },
  {
   "cell_type": "code",
   "execution_count": 14,
   "metadata": {},
   "outputs": [],
   "source": [
    "model_params = {}"
   ]
  },
  {
   "cell_type": "code",
   "execution_count": 15,
   "metadata": {},
   "outputs": [],
   "source": [
    "model_params['statsmodel_reg'] = build_model(ols_reg,\n",
    "                                             'Median Home Value',\n",
    "                                             FEATURES,\n",
    "                                             boston_df,\n",
    "                                             7,\n",
    "                                             True)"
   ]
  },
  {
   "cell_type": "code",
   "execution_count": 16,
   "metadata": {},
   "outputs": [],
   "source": [
    "model       = model_params['statsmodel_reg']['model']\n",
    "x_initial   = model_params['statsmodel_reg']['x_initial']\n",
    "x_transform = model_params['statsmodel_reg']['x_transform']\n",
    "x_train     = model_params['statsmodel_reg']['x_train']\n",
    "x_test      = model_params['statsmodel_reg']['x_test']\n",
    "y_train     = model_params['statsmodel_reg']['y_train']\n",
    "y_test      = model_params['statsmodel_reg']['y_test']\n",
    "y_pred      = model_params['statsmodel_reg']['y_pred']"
   ]
  },
  {
   "cell_type": "markdown",
   "metadata": {},
   "source": [
    "## Visualize Transform results"
   ]
  },
  {
   "cell_type": "code",
   "execution_count": 17,
   "metadata": {},
   "outputs": [
    {
     "data": {
      "text/plain": [
       "(506, 8)"
      ]
     },
     "execution_count": 17,
     "metadata": {},
     "output_type": "execute_result"
    }
   ],
   "source": [
    "x_transform.shape"
   ]
  },
  {
   "cell_type": "code",
   "execution_count": 18,
   "metadata": {},
   "outputs": [
    {
     "data": {
      "image/png": "[encoded data removed]",
      "text/plain": [
       "<Figure size 864x720 with 1 Axes>"
      ]
     },
     "metadata": {
      "needs_background": "light"
     },
     "output_type": "display_data"
    }
   ],
   "source": [
    "fig, ax = plt.subplots(figsize = (12,10))\n",
    "\n",
    "ax.scatter(x_initial['crime rate'], x_initial['residential land zone'], cmap = 'Spectral')\n",
    "plt.xlabel('X[0] (crime rate)')\n",
    "plt.ylabel('X[1] (residential land zone)');"
   ]
  },
  {
   "cell_type": "code",
   "execution_count": 19,
   "metadata": {},
   "outputs": [
    {
     "data": {
      "image/png": "[encoded data removed]",
      "text/plain": [
       "<Figure size 864x720 with 1 Axes>"
      ]
     },
     "metadata": {
      "needs_background": "light"
     },
     "output_type": "display_data"
    }
   ],
   "source": [
    "fig, ax = plt.subplots(figsize = (12,10))\n",
    "\n",
    "ax.scatter(x_transform[1], x_transform[2], cmap = 'Spectral')\n",
    "plt.xlabel('Principal Component 1')\n",
    "plt.ylabel('Principal Component 2');"
   ]
  },
  {
   "cell_type": "code",
   "execution_count": 20,
   "metadata": {
    "scrolled": true
   },
   "outputs": [
    {
     "name": "stdout",
     "output_type": "stream",
     "text": [
      "Rsquared:  0.591492839515991\n",
      "Adjusted Rsquared:  0.584271753345819\n"
     ]
    }
   ],
   "source": [
    "print('Rsquared: ', model.rsquared)\n",
    "print('Adjusted Rsquared: ', model.rsquared_adj)"
   ]
  },
  {
   "cell_type": "code",
   "execution_count": 21,
   "metadata": {
    "scrolled": true
   },
   "outputs": [
    {
     "data": {
      "image/png": "[encoded data removed]",
      "text/plain": [
       "<Figure size 864x720 with 1 Axes>"
      ]
     },
     "metadata": {
      "needs_background": "light"
     },
     "output_type": "display_data"
    }
   ],
   "source": [
    "plt.figure(figsize = (12,10))\n",
    "\n",
    "plt.scatter(y_test.values, y_pred)\n",
    "\n",
    "plt.show()"
   ]
  },
  {
   "cell_type": "code",
   "execution_count": 22,
   "metadata": {},
   "outputs": [
    {
     "data": {
      "text/html": [
       "<table class=\"simpletable\">\n",
       "<caption>OLS Regression Results</caption>\n",
       "<tr>\n",
       "  <th>Dep. Variable:</th>    <td>Median Home Value</td> <th>  R-squared:         </th> <td>   0.591</td>\n",
       "</tr>\n",
       "<tr>\n",
       "  <th>Model:</th>                   <td>OLS</td>        <th>  Adj. R-squared:    </th> <td>   0.584</td>\n",
       "</tr>\n",
       "<tr>\n",
       "  <th>Method:</th>             <td>Least Squares</td>   <th>  F-statistic:       </th> <td>   81.91</td>\n",
       "</tr>\n",
       "<tr>\n",
       "  <th>Date:</th>             <td>Sun, 10 Mar 2019</td>  <th>  Prob (F-statistic):</th> <td>4.80e-73</td>\n",
       "</tr>\n",
       "<tr>\n",
       "  <th>Time:</th>                 <td>19:37:06</td>      <th>  Log-Likelihood:    </th> <td> -1291.2</td>\n",
       "</tr>\n",
       "<tr>\n",
       "  <th>No. Observations:</th>      <td>   404</td>       <th>  AIC:               </th> <td>   2598.</td>\n",
       "</tr>\n",
       "<tr>\n",
       "  <th>Df Residuals:</th>          <td>   396</td>       <th>  BIC:               </th> <td>   2630.</td>\n",
       "</tr>\n",
       "<tr>\n",
       "  <th>Df Model:</th>              <td>     7</td>       <th>                     </th>     <td> </td>   \n",
       "</tr>\n",
       "<tr>\n",
       "  <th>Covariance Type:</th>      <td>nonrobust</td>     <th>                     </th>     <td> </td>   \n",
       "</tr>\n",
       "</table>\n",
       "<table class=\"simpletable\">\n",
       "<tr>\n",
       "  <td></td>     <th>coef</th>     <th>std err</th>      <th>t</th>      <th>P>|t|</th>  <th>[0.025</th>    <th>0.975]</th>  \n",
       "</tr>\n",
       "<tr>\n",
       "  <th>0</th> <td>   22.6045</td> <td>    0.297</td> <td>   76.047</td> <td> 0.000</td> <td>   22.020</td> <td>   23.189</td>\n",
       "</tr>\n",
       "<tr>\n",
       "  <th>1</th> <td>   -0.0265</td> <td>    0.002</td> <td>  -15.155</td> <td> 0.000</td> <td>   -0.030</td> <td>   -0.023</td>\n",
       "</tr>\n",
       "<tr>\n",
       "  <th>2</th> <td>    0.0796</td> <td>    0.010</td> <td>    7.616</td> <td> 0.000</td> <td>    0.059</td> <td>    0.100</td>\n",
       "</tr>\n",
       "<tr>\n",
       "  <th>3</th> <td>    0.0452</td> <td>    0.018</td> <td>    2.505</td> <td> 0.013</td> <td>    0.010</td> <td>    0.081</td>\n",
       "</tr>\n",
       "<tr>\n",
       "  <th>4</th> <td>   -0.2576</td> <td>    0.039</td> <td>   -6.562</td> <td> 0.000</td> <td>   -0.335</td> <td>   -0.180</td>\n",
       "</tr>\n",
       "<tr>\n",
       "  <th>5</th> <td>   -0.8419</td> <td>    0.057</td> <td>  -14.835</td> <td> 0.000</td> <td>   -0.954</td> <td>   -0.730</td>\n",
       "</tr>\n",
       "<tr>\n",
       "  <th>6</th> <td>    0.2200</td> <td>    0.075</td> <td>    2.942</td> <td> 0.003</td> <td>    0.073</td> <td>    0.367</td>\n",
       "</tr>\n",
       "<tr>\n",
       "  <th>7</th> <td>   -0.3697</td> <td>    0.097</td> <td>   -3.793</td> <td> 0.000</td> <td>   -0.561</td> <td>   -0.178</td>\n",
       "</tr>\n",
       "</table>\n",
       "<table class=\"simpletable\">\n",
       "<tr>\n",
       "  <th>Omnibus:</th>       <td>114.484</td> <th>  Durbin-Watson:     </th> <td>   1.929</td>\n",
       "</tr>\n",
       "<tr>\n",
       "  <th>Prob(Omnibus):</th> <td> 0.000</td>  <th>  Jarque-Bera (JB):  </th> <td> 253.197</td>\n",
       "</tr>\n",
       "<tr>\n",
       "  <th>Skew:</th>          <td> 1.462</td>  <th>  Prob(JB):          </th> <td>1.04e-55</td>\n",
       "</tr>\n",
       "<tr>\n",
       "  <th>Kurtosis:</th>      <td> 5.548</td>  <th>  Cond. No.          </th> <td>    170.</td>\n",
       "</tr>\n",
       "</table><br/><br/>Warnings:<br/>[1] Standard Errors assume that the covariance matrix of the errors is correctly specified."
      ],
      "text/plain": [
       "<class 'statsmodels.iolib.summary.Summary'>\n",
       "\"\"\"\n",
       "                            OLS Regression Results                            \n",
       "==============================================================================\n",
       "Dep. Variable:      Median Home Value   R-squared:                       0.591\n",
       "Model:                            OLS   Adj. R-squared:                  0.584\n",
       "Method:                 Least Squares   F-statistic:                     81.91\n",
       "Date:                Sun, 10 Mar 2019   Prob (F-statistic):           4.80e-73\n",
       "Time:                        19:37:06   Log-Likelihood:                -1291.2\n",
       "No. Observations:                 404   AIC:                             2598.\n",
       "Df Residuals:                     396   BIC:                             2630.\n",
       "Df Model:                           7                                         \n",
       "Covariance Type:            nonrobust                                         \n",
       "==============================================================================\n",
       "                 coef    std err          t      P>|t|      [0.025      0.975]\n",
       "------------------------------------------------------------------------------\n",
       "0             22.6045      0.297     76.047      0.000      22.020      23.189\n",
       "1             -0.0265      0.002    -15.155      0.000      -0.030      -0.023\n",
       "2              0.0796      0.010      7.616      0.000       0.059       0.100\n",
       "3              0.0452      0.018      2.505      0.013       0.010       0.081\n",
       "4             -0.2576      0.039     -6.562      0.000      -0.335      -0.180\n",
       "5             -0.8419      0.057    -14.835      0.000      -0.954      -0.730\n",
       "6              0.2200      0.075      2.942      0.003       0.073       0.367\n",
       "7             -0.3697      0.097     -3.793      0.000      -0.561      -0.178\n",
       "==============================================================================\n",
       "Omnibus:                      114.484   Durbin-Watson:                   1.929\n",
       "Prob(Omnibus):                  0.000   Jarque-Bera (JB):              253.197\n",
       "Skew:                           1.462   Prob(JB):                     1.04e-55\n",
       "Kurtosis:                       5.548   Cond. No.                         170.\n",
       "==============================================================================\n",
       "\n",
       "Warnings:\n",
       "[1] Standard Errors assume that the covariance matrix of the errors is correctly specified.\n",
       "\"\"\""
      ]
     },
     "execution_count": 22,
     "metadata": {},
     "output_type": "execute_result"
    }
   ],
   "source": [
    "model.summary()"
   ]
  },
  {
   "cell_type": "markdown",
   "metadata": {},
   "source": [
    "## Sklearn Model"
   ]
  },
  {
   "cell_type": "code",
   "execution_count": 23,
   "metadata": {},
   "outputs": [],
   "source": [
    "model_params['sklearn_reg'] = build_model(linear_reg,\n",
    "                                          'Median Home Value',\n",
    "                                           FEATURES,\n",
    "                                           boston_df,\n",
    "                                           6)"
   ]
  },
  {
   "cell_type": "code",
   "execution_count": 24,
   "metadata": {},
   "outputs": [],
   "source": [
    "model       = model_params['sklearn_reg']['model']\n",
    "x_transform = model_params['sklearn_reg']['x_transform']\n",
    "x_train     = model_params['sklearn_reg']['x_train']\n",
    "x_test      = model_params['sklearn_reg']['x_test']\n",
    "y_train     = model_params['sklearn_reg']['y_train']\n",
    "y_test      = model_params['sklearn_reg']['y_test']\n",
    "y_pred      = model_params['sklearn_reg']['y_pred']"
   ]
  },
  {
   "cell_type": "code",
   "execution_count": 25,
   "metadata": {},
   "outputs": [
    {
     "data": {
      "text/plain": [
       "(506, 6)"
      ]
     },
     "execution_count": 25,
     "metadata": {},
     "output_type": "execute_result"
    }
   ],
   "source": [
    "x_transform.shape"
   ]
  },
  {
   "cell_type": "code",
   "execution_count": 26,
   "metadata": {
    "scrolled": true
   },
   "outputs": [
    {
     "name": "stdout",
     "output_type": "stream",
     "text": [
      "Training score:  0.5746095275415753\n",
      "Testing score:  0.6191018340145138\n"
     ]
    }
   ],
   "source": [
    "print('Training score: ', model.score(x_train, y_train))\n",
    "print('Testing score: ', r2_score(y_test, y_pred))"
   ]
  },
  {
   "cell_type": "code",
   "execution_count": 27,
   "metadata": {
    "scrolled": true
   },
   "outputs": [
    {
     "data": {
      "image/png": "[encoded data removed]",
      "text/plain": [
       "<Figure size 864x720 with 1 Axes>"
      ]
     },
     "metadata": {
      "needs_background": "light"
     },
     "output_type": "display_data"
    }
   ],
   "source": [
    "plt.figure(figsize = (12,10))\n",
    "\n",
    "plt.scatter(y_test.values, y_pred)\n",
    "\n",
    "plt.show()"
   ]
  },
  {
   "cell_type": "code",
   "execution_count": null,
   "metadata": {},
   "outputs": [],
   "source": []
  },
  {
   "cell_type": "code",
   "execution_count": null,
   "metadata": {},
   "outputs": [],
   "source": []
  },
  {
   "cell_type": "code",
   "execution_count": null,
   "metadata": {},
   "outputs": [],
   "source": []
  }
 ],
 "metadata": {
  "kernelspec": {
   "display_name": "Python 3",
   "language": "python",
   "name": "python3"
  },
  "language_info": {
   "codemirror_mode": {
    "name": "ipython",
    "version": 3
   },
   "file_extension": ".py",
   "mimetype": "text/x-python",
   "name": "python",
   "nbconvert_exporter": "python",
   "pygments_lexer": "ipython3",
   "version": "3.8.3"
  }
 },
 "nbformat": 4,
 "nbformat_minor": 2
}
