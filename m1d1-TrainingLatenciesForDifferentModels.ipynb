{
 "cells": [
  {
   "cell_type": "code",
   "execution_count": 1,
   "metadata": {},
   "outputs": [],
   "source": [
    "import gc\n",
    "import time\n",
    "\n",
    "import numpy as np\n",
    "import pandas as pd\n",
    "import matplotlib.pyplot as plt\n",
    "import seaborn as sns\n",
    "\n",
    "import sklearn\n",
    "from sklearn.datasets import make_regression\n",
    "from sklearn.model_selection import train_test_split\n",
    "from sklearn.preprocessing import StandardScaler\n",
    "\n",
    "from sklearn.linear_model import LinearRegression\n",
    "from sklearn.linear_model import Lasso\n",
    "from sklearn.linear_model.stochastic_gradient import SGDRegressor\n",
    "from sklearn.svm.classes import SVR\n",
    "from sklearn.tree import DecisionTreeRegressor\n",
    "from sklearn.ensemble.forest import RandomForestRegressor"
   ]
  },
  {
   "cell_type": "code",
   "execution_count": 2,
   "metadata": {},
   "outputs": [
    {
     "data": {
      "text/plain": [
       "'0.21.3'"
      ]
     },
     "execution_count": 2,
     "metadata": {},
     "output_type": "execute_result"
    }
   ],
   "source": [
    "import sklearn \n",
    "sklearn.__version__"
   ]
  },
  {
   "cell_type": "markdown",
   "metadata": {},
   "source": [
    "### Prediction latencies\n",
    "\n",
    "https://scikit-learn.org/stable/auto_examples/applications/plot_prediction_latency.html#sphx-glr-auto-examples-applications-plot-prediction-latency-py"
   ]
  },
  {
   "cell_type": "code",
   "execution_count": 3,
   "metadata": {},
   "outputs": [],
   "source": [
    "def generate_dataset(n_samples, n_features, noise=0.1):\n",
    "    \n",
    "    print(\"generating dataset...\")\n",
    "\n",
    "    X, y, coef = make_regression(n_samples=n_samples,\n",
    "                                 n_features=n_features, \n",
    "                                 noise=noise, coef=True)\n",
    "\n",
    "    X_train, X_test, y_train, y_test = train_test_split(\n",
    "        X, y, test_size=0.2, random_state=5)\n",
    "\n",
    "    X_scaler = StandardScaler()\n",
    "    X_train = X_scaler.fit_transform(X_train)\n",
    "    X_test = X_scaler.transform(X_test)\n",
    "\n",
    "    y_scaler = StandardScaler()\n",
    "    y_train = y_scaler.fit_transform(y_train[:, None])[:, 0]\n",
    "    y_test = y_scaler.transform(y_test[:, None])[:, 0]\n",
    "\n",
    "    gc.collect()\n",
    "    \n",
    "    print('dataset generation complete...')\n",
    "    \n",
    "    return X_train, y_train, X_test, y_test"
   ]
  },
  {
   "cell_type": "code",
   "execution_count": 4,
   "metadata": {},
   "outputs": [],
   "source": [
    "def build_and_train_model(X_train, y_train, model):\n",
    "    \n",
    "    training_latencies = []\n",
    "    \n",
    "    for i in range(20):\n",
    "        start = time.time()\n",
    "        model.fit(X_train, y_train)\n",
    "        \n",
    "        training_latencies.append(time.time() - start)\n",
    "        \n",
    "   \n",
    "    return training_latencies"
   ]
  },
  {
   "cell_type": "code",
   "execution_count": 5,
   "metadata": {},
   "outputs": [
    {
     "name": "stdout",
     "output_type": "stream",
     "text": [
      "generating dataset...\n",
      "dataset generation complete...\n"
     ]
    }
   ],
   "source": [
    "X_train, y_train, X_test, y_test = generate_dataset(10000, 100)"
   ]
  },
  {
   "cell_type": "code",
   "execution_count": 6,
   "metadata": {},
   "outputs": [
    {
     "data": {
      "text/plain": [
       "((8000, 100), (8000,))"
      ]
     },
     "execution_count": 6,
     "metadata": {},
     "output_type": "execute_result"
    }
   ],
   "source": [
    "X_train.shape, y_train.shape"
   ]
  },
  {
   "cell_type": "code",
   "execution_count": 7,
   "metadata": {},
   "outputs": [
    {
     "data": {
      "text/plain": [
       "((2000, 100), (2000,))"
      ]
     },
     "execution_count": 7,
     "metadata": {},
     "output_type": "execute_result"
    }
   ],
   "source": [
    "X_test.shape, y_test.shape"
   ]
  },
  {
   "cell_type": "code",
   "execution_count": 11,
   "metadata": {},
   "outputs": [],
   "source": [
    "linear_model = LinearRegression()\n",
    "\n",
    "lasso_model = Lasso(alpha=0.8)\n",
    "\n",
    "sgd_model = SGDRegressor(penalty='elasticnet', alpha=0.01,\n",
    "                         l1_ratio=0.25, tol=1e-4)\n",
    "\n",
    "sv_model = SVR(kernel='rbf', gamma='scale')\n",
    "\n",
    "dt_model = DecisionTreeRegressor(max_depth=10)\n",
    "\n",
    "rf_model = RandomForestRegressor(n_estimators=20)"
   ]
  },
  {
   "cell_type": "code",
   "execution_count": 12,
   "metadata": {},
   "outputs": [],
   "source": [
    "training_latencies_dict = {}"
   ]
  },
  {
   "cell_type": "code",
   "execution_count": 13,
   "metadata": {},
   "outputs": [],
   "source": [
    "training_latencies_dict['linear'] = build_and_train_model(X_train,\n",
    "                                                          y_train,\n",
    "                                                          linear_model)"
   ]
  },
  {
   "cell_type": "code",
   "execution_count": 14,
   "metadata": {},
   "outputs": [],
   "source": [
    "training_latencies_dict['lasso'] = build_and_train_model(X_train,\n",
    "                                                         y_train,\n",
    "                                                         lasso_model)"
   ]
  },
  {
   "cell_type": "code",
   "execution_count": 15,
   "metadata": {},
   "outputs": [],
   "source": [
    "training_latencies_dict['sgd'] = build_and_train_model(X_train,\n",
    "                                                       y_train,\n",
    "                                                       sgd_model)"
   ]
  },
  {
   "cell_type": "code",
   "execution_count": 16,
   "metadata": {},
   "outputs": [],
   "source": [
    "training_latencies_dict['sv'] = build_and_train_model(X_train,\n",
    "                                                      y_train,\n",
    "                                                      sv_model)"
   ]
  },
  {
   "cell_type": "code",
   "execution_count": 17,
   "metadata": {},
   "outputs": [],
   "source": [
    "training_latencies_dict['dt'] = build_and_train_model(X_train,\n",
    "                                                      y_train,\n",
    "                                                      dt_model)"
   ]
  },
  {
   "cell_type": "code",
   "execution_count": 18,
   "metadata": {},
   "outputs": [],
   "source": [
    "training_latencies_dict['rf'] = build_and_train_model(X_train,\n",
    "                                                      y_train,\n",
    "                                                      rf_model)"
   ]
  },
  {
   "cell_type": "code",
   "execution_count": 19,
   "metadata": {},
   "outputs": [],
   "source": [
    "training_latencies_df = pd.DataFrame()\n",
    "\n",
    "for key in training_latencies_dict:\n",
    "    training_latencies_df[key] = training_latencies_dict[key]"
   ]
  },
  {
   "cell_type": "code",
   "execution_count": 20,
   "metadata": {},
   "outputs": [
    {
     "data": {
      "text/html": [
       "<div>\n",
       "<style scoped>\n",
       "    .dataframe tbody tr th:only-of-type {\n",
       "        vertical-align: middle;\n",
       "    }\n",
       "\n",
       "    .dataframe tbody tr th {\n",
       "        vertical-align: top;\n",
       "    }\n",
       "\n",
       "    .dataframe thead th {\n",
       "        text-align: right;\n",
       "    }\n",
       "</style>\n",
       "<table border=\"1\" class=\"dataframe\">\n",
       "  <thead>\n",
       "    <tr style=\"text-align: right;\">\n",
       "      <th></th>\n",
       "      <th>linear</th>\n",
       "      <th>lasso</th>\n",
       "      <th>sgd</th>\n",
       "      <th>sv</th>\n",
       "      <th>dt</th>\n",
       "      <th>rf</th>\n",
       "    </tr>\n",
       "  </thead>\n",
       "  <tbody>\n",
       "    <tr>\n",
       "      <td>0</td>\n",
       "      <td>0.038094</td>\n",
       "      <td>0.016939</td>\n",
       "      <td>0.071955</td>\n",
       "      <td>4.017983</td>\n",
       "      <td>0.759687</td>\n",
       "      <td>11.201043</td>\n",
       "    </tr>\n",
       "    <tr>\n",
       "      <td>1</td>\n",
       "      <td>0.028733</td>\n",
       "      <td>0.014544</td>\n",
       "      <td>0.062536</td>\n",
       "      <td>4.765016</td>\n",
       "      <td>0.634484</td>\n",
       "      <td>10.831299</td>\n",
       "    </tr>\n",
       "    <tr>\n",
       "      <td>2</td>\n",
       "      <td>0.024457</td>\n",
       "      <td>0.013390</td>\n",
       "      <td>0.063519</td>\n",
       "      <td>4.197712</td>\n",
       "      <td>0.818777</td>\n",
       "      <td>9.804314</td>\n",
       "    </tr>\n",
       "    <tr>\n",
       "      <td>3</td>\n",
       "      <td>0.024057</td>\n",
       "      <td>0.014585</td>\n",
       "      <td>0.062729</td>\n",
       "      <td>3.641990</td>\n",
       "      <td>0.619204</td>\n",
       "      <td>10.142511</td>\n",
       "    </tr>\n",
       "    <tr>\n",
       "      <td>4</td>\n",
       "      <td>0.022567</td>\n",
       "      <td>0.012453</td>\n",
       "      <td>0.063644</td>\n",
       "      <td>3.629858</td>\n",
       "      <td>0.603687</td>\n",
       "      <td>10.214489</td>\n",
       "    </tr>\n",
       "    <tr>\n",
       "      <td>5</td>\n",
       "      <td>0.023802</td>\n",
       "      <td>0.010442</td>\n",
       "      <td>0.062277</td>\n",
       "      <td>3.670502</td>\n",
       "      <td>0.721091</td>\n",
       "      <td>10.181550</td>\n",
       "    </tr>\n",
       "    <tr>\n",
       "      <td>6</td>\n",
       "      <td>0.022959</td>\n",
       "      <td>0.010241</td>\n",
       "      <td>0.063106</td>\n",
       "      <td>3.878092</td>\n",
       "      <td>0.660045</td>\n",
       "      <td>11.300771</td>\n",
       "    </tr>\n",
       "    <tr>\n",
       "      <td>7</td>\n",
       "      <td>0.022741</td>\n",
       "      <td>0.011635</td>\n",
       "      <td>0.062549</td>\n",
       "      <td>3.890903</td>\n",
       "      <td>0.610984</td>\n",
       "      <td>10.369565</td>\n",
       "    </tr>\n",
       "    <tr>\n",
       "      <td>8</td>\n",
       "      <td>0.022756</td>\n",
       "      <td>0.012313</td>\n",
       "      <td>0.062423</td>\n",
       "      <td>4.625455</td>\n",
       "      <td>0.749191</td>\n",
       "      <td>11.119348</td>\n",
       "    </tr>\n",
       "    <tr>\n",
       "      <td>9</td>\n",
       "      <td>0.022891</td>\n",
       "      <td>0.011541</td>\n",
       "      <td>0.062259</td>\n",
       "      <td>3.936479</td>\n",
       "      <td>0.671994</td>\n",
       "      <td>11.445002</td>\n",
       "    </tr>\n",
       "    <tr>\n",
       "      <td>10</td>\n",
       "      <td>0.023640</td>\n",
       "      <td>0.010978</td>\n",
       "      <td>0.062819</td>\n",
       "      <td>3.814646</td>\n",
       "      <td>0.742627</td>\n",
       "      <td>9.799962</td>\n",
       "    </tr>\n",
       "    <tr>\n",
       "      <td>11</td>\n",
       "      <td>0.023359</td>\n",
       "      <td>0.011062</td>\n",
       "      <td>0.064394</td>\n",
       "      <td>3.737439</td>\n",
       "      <td>0.600617</td>\n",
       "      <td>9.356706</td>\n",
       "    </tr>\n",
       "    <tr>\n",
       "      <td>12</td>\n",
       "      <td>0.022696</td>\n",
       "      <td>0.011379</td>\n",
       "      <td>0.069800</td>\n",
       "      <td>3.757143</td>\n",
       "      <td>0.635530</td>\n",
       "      <td>9.214216</td>\n",
       "    </tr>\n",
       "    <tr>\n",
       "      <td>13</td>\n",
       "      <td>0.022883</td>\n",
       "      <td>0.010682</td>\n",
       "      <td>0.070675</td>\n",
       "      <td>3.773432</td>\n",
       "      <td>0.626378</td>\n",
       "      <td>9.370935</td>\n",
       "    </tr>\n",
       "    <tr>\n",
       "      <td>14</td>\n",
       "      <td>0.023107</td>\n",
       "      <td>0.010595</td>\n",
       "      <td>0.063786</td>\n",
       "      <td>3.781709</td>\n",
       "      <td>0.615051</td>\n",
       "      <td>9.249673</td>\n",
       "    </tr>\n",
       "    <tr>\n",
       "      <td>15</td>\n",
       "      <td>0.022861</td>\n",
       "      <td>0.011696</td>\n",
       "      <td>0.064878</td>\n",
       "      <td>4.397845</td>\n",
       "      <td>0.605782</td>\n",
       "      <td>9.202696</td>\n",
       "    </tr>\n",
       "    <tr>\n",
       "      <td>16</td>\n",
       "      <td>0.023104</td>\n",
       "      <td>0.010733</td>\n",
       "      <td>0.063203</td>\n",
       "      <td>4.139346</td>\n",
       "      <td>0.602784</td>\n",
       "      <td>9.196284</td>\n",
       "    </tr>\n",
       "    <tr>\n",
       "      <td>17</td>\n",
       "      <td>0.022773</td>\n",
       "      <td>0.011149</td>\n",
       "      <td>0.062166</td>\n",
       "      <td>4.853412</td>\n",
       "      <td>0.615262</td>\n",
       "      <td>9.358835</td>\n",
       "    </tr>\n",
       "    <tr>\n",
       "      <td>18</td>\n",
       "      <td>0.023636</td>\n",
       "      <td>0.010317</td>\n",
       "      <td>0.062193</td>\n",
       "      <td>5.733167</td>\n",
       "      <td>0.870406</td>\n",
       "      <td>9.186025</td>\n",
       "    </tr>\n",
       "    <tr>\n",
       "      <td>19</td>\n",
       "      <td>0.023394</td>\n",
       "      <td>0.011093</td>\n",
       "      <td>0.067087</td>\n",
       "      <td>4.327086</td>\n",
       "      <td>0.856459</td>\n",
       "      <td>9.159578</td>\n",
       "    </tr>\n",
       "  </tbody>\n",
       "</table>\n",
       "</div>"
      ],
      "text/plain": [
       "      linear     lasso       sgd        sv        dt         rf\n",
       "0   0.038094  0.016939  0.071955  4.017983  0.759687  11.201043\n",
       "1   0.028733  0.014544  0.062536  4.765016  0.634484  10.831299\n",
       "2   0.024457  0.013390  0.063519  4.197712  0.818777   9.804314\n",
       "3   0.024057  0.014585  0.062729  3.641990  0.619204  10.142511\n",
       "4   0.022567  0.012453  0.063644  3.629858  0.603687  10.214489\n",
       "5   0.023802  0.010442  0.062277  3.670502  0.721091  10.181550\n",
       "6   0.022959  0.010241  0.063106  3.878092  0.660045  11.300771\n",
       "7   0.022741  0.011635  0.062549  3.890903  0.610984  10.369565\n",
       "8   0.022756  0.012313  0.062423  4.625455  0.749191  11.119348\n",
       "9   0.022891  0.011541  0.062259  3.936479  0.671994  11.445002\n",
       "10  0.023640  0.010978  0.062819  3.814646  0.742627   9.799962\n",
       "11  0.023359  0.011062  0.064394  3.737439  0.600617   9.356706\n",
       "12  0.022696  0.011379  0.069800  3.757143  0.635530   9.214216\n",
       "13  0.022883  0.010682  0.070675  3.773432  0.626378   9.370935\n",
       "14  0.023107  0.010595  0.063786  3.781709  0.615051   9.249673\n",
       "15  0.022861  0.011696  0.064878  4.397845  0.605782   9.202696\n",
       "16  0.023104  0.010733  0.063203  4.139346  0.602784   9.196284\n",
       "17  0.022773  0.011149  0.062166  4.853412  0.615262   9.358835\n",
       "18  0.023636  0.010317  0.062193  5.733167  0.870406   9.186025\n",
       "19  0.023394  0.011093  0.067087  4.327086  0.856459   9.159578"
      ]
     },
     "execution_count": 20,
     "metadata": {},
     "output_type": "execute_result"
    }
   ],
   "source": [
    "training_latencies_df"
   ]
  },
  {
   "cell_type": "code",
   "execution_count": 21,
   "metadata": {},
   "outputs": [
    {
     "data": {
      "text/plain": [
       "<matplotlib.axes._subplots.AxesSubplot at 0x10c904470>"
      ]
     },
     "execution_count": 21,
     "metadata": {},
     "output_type": "execute_result"
    },
    {
     "data": {
      "image/png": "[encoded data removed]",
      "text/plain": [
       "<Figure size 720x576 with 1 Axes>"
      ]
     },
     "metadata": {
      "needs_background": "light"
     },
     "output_type": "display_data"
    }
   ],
   "source": [
    "training_latencies_df.boxplot(figsize=(10, 8))"
   ]
  },
  {
   "cell_type": "code",
   "execution_count": null,
   "metadata": {},
   "outputs": [],
   "source": []
  },
  {
   "cell_type": "code",
   "execution_count": null,
   "metadata": {},
   "outputs": [],
   "source": []
  },
  {
   "cell_type": "code",
   "execution_count": null,
   "metadata": {},
   "outputs": [],
   "source": []
  },
  {
   "cell_type": "code",
   "execution_count": null,
   "metadata": {},
   "outputs": [],
   "source": []
  },
  {
   "cell_type": "code",
   "execution_count": null,
   "metadata": {},
   "outputs": [],
   "source": []
  },
  {
   "cell_type": "code",
   "execution_count": null,
   "metadata": {},
   "outputs": [],
   "source": []
  },
  {
   "cell_type": "code",
   "execution_count": null,
   "metadata": {},
   "outputs": [],
   "source": []
  },
  {
   "cell_type": "code",
   "execution_count": null,
   "metadata": {},
   "outputs": [],
   "source": []
  },
  {
   "cell_type": "code",
   "execution_count": null,
   "metadata": {
    "collapsed": true
   },
   "outputs": [],
   "source": []
  },
  {
   "cell_type": "code",
   "execution_count": null,
   "metadata": {
    "collapsed": true
   },
   "outputs": [],
   "source": []
  }
 ],
 "metadata": {
  "kernelspec": {
   "display_name": "Python 3",
   "language": "python",
   "name": "python3"
  },
  "language_info": {
   "codemirror_mode": {
    "name": "ipython",
    "version": 3
   },
   "file_extension": ".py",
   "mimetype": "text/x-python",
   "name": "python",
   "nbconvert_exporter": "python",
   "pygments_lexer": "ipython3",
   "version": "3.6.9"
  }
 },
 "nbformat": 4,
 "nbformat_minor": 2
}
