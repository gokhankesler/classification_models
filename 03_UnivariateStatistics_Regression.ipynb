{
 "cells": [
  {
   "cell_type": "markdown",
   "metadata": {},
   "source": [
    "## Using statistical tests to select features for building a linear regression model\n",
    "\n",
    "* Statistical tests can be used to select those features that have the strongest relationship with the output variable.\n",
    "\n",
    "* It can be seen as a preprocessing step to an estimator. "
   ]
  },
  {
   "cell_type": "code",
   "execution_count": 1,
   "metadata": {},
   "outputs": [],
   "source": [
    "import pandas as pd\n",
    "import pylab\n",
    "import matplotlib.pyplot as plt\n",
    "\n",
    "import statsmodels.api as sm\n",
    "\n",
    "from sklearn.linear_model import LinearRegression\n",
    "\n",
    "from sklearn.model_selection import train_test_split\n",
    "from sklearn.metrics import r2_score"
   ]
  },
  {
   "cell_type": "markdown",
   "metadata": {},
   "source": [
    "### Load and preprocess Data"
   ]
  },
  {
   "cell_type": "code",
   "execution_count": 2,
   "metadata": {},
   "outputs": [],
   "source": [
    "housesale_df = pd.read_csv('datasets/housesale.csv', dtype = 'float')"
   ]
  },
  {
   "cell_type": "code",
   "execution_count": 3,
   "metadata": {},
   "outputs": [
    {
     "data": {
      "text/plain": [
       "(21597, 18)"
      ]
     },
     "execution_count": 3,
     "metadata": {},
     "output_type": "execute_result"
    }
   ],
   "source": [
    "housesale_df.shape"
   ]
  },
  {
   "cell_type": "code",
   "execution_count": 4,
   "metadata": {
    "scrolled": true
   },
   "outputs": [
    {
     "data": {
      "text/html": [
       "<div>\n",
       "<style scoped>\n",
       "    .dataframe tbody tr th:only-of-type {\n",
       "        vertical-align: middle;\n",
       "    }\n",
       "\n",
       "    .dataframe tbody tr th {\n",
       "        vertical-align: top;\n",
       "    }\n",
       "\n",
       "    .dataframe thead th {\n",
       "        text-align: right;\n",
       "    }\n",
       "</style>\n",
       "<table border=\"1\" class=\"dataframe\">\n",
       "  <thead>\n",
       "    <tr style=\"text-align: right;\">\n",
       "      <th></th>\n",
       "      <th>price</th>\n",
       "      <th>bedrooms</th>\n",
       "      <th>bathrooms</th>\n",
       "      <th>sqft_living</th>\n",
       "      <th>sqft_lot</th>\n",
       "      <th>floors</th>\n",
       "      <th>waterfront</th>\n",
       "      <th>view</th>\n",
       "      <th>condition</th>\n",
       "      <th>grade</th>\n",
       "      <th>sqft_above</th>\n",
       "      <th>sqft_basement</th>\n",
       "      <th>lat</th>\n",
       "      <th>long</th>\n",
       "      <th>sqft_living15</th>\n",
       "      <th>sqft_lot15</th>\n",
       "      <th>age</th>\n",
       "      <th>renovated</th>\n",
       "    </tr>\n",
       "  </thead>\n",
       "  <tbody>\n",
       "    <tr>\n",
       "      <th>0</th>\n",
       "      <td>221900.0</td>\n",
       "      <td>3.0</td>\n",
       "      <td>1.00</td>\n",
       "      <td>1180.0</td>\n",
       "      <td>5650.0</td>\n",
       "      <td>1.0</td>\n",
       "      <td>0.0</td>\n",
       "      <td>0.0</td>\n",
       "      <td>3.0</td>\n",
       "      <td>7.0</td>\n",
       "      <td>1180.0</td>\n",
       "      <td>0.0</td>\n",
       "      <td>47.5112</td>\n",
       "      <td>-122.257</td>\n",
       "      <td>1340.0</td>\n",
       "      <td>5650.0</td>\n",
       "      <td>63.0</td>\n",
       "      <td>0.0</td>\n",
       "    </tr>\n",
       "    <tr>\n",
       "      <th>1</th>\n",
       "      <td>538000.0</td>\n",
       "      <td>3.0</td>\n",
       "      <td>2.25</td>\n",
       "      <td>2570.0</td>\n",
       "      <td>7242.0</td>\n",
       "      <td>2.0</td>\n",
       "      <td>0.0</td>\n",
       "      <td>0.0</td>\n",
       "      <td>3.0</td>\n",
       "      <td>7.0</td>\n",
       "      <td>2170.0</td>\n",
       "      <td>400.0</td>\n",
       "      <td>47.7210</td>\n",
       "      <td>-122.319</td>\n",
       "      <td>1690.0</td>\n",
       "      <td>7639.0</td>\n",
       "      <td>67.0</td>\n",
       "      <td>1.0</td>\n",
       "    </tr>\n",
       "    <tr>\n",
       "      <th>2</th>\n",
       "      <td>180000.0</td>\n",
       "      <td>2.0</td>\n",
       "      <td>1.00</td>\n",
       "      <td>770.0</td>\n",
       "      <td>10000.0</td>\n",
       "      <td>1.0</td>\n",
       "      <td>0.0</td>\n",
       "      <td>0.0</td>\n",
       "      <td>3.0</td>\n",
       "      <td>6.0</td>\n",
       "      <td>770.0</td>\n",
       "      <td>0.0</td>\n",
       "      <td>47.7379</td>\n",
       "      <td>-122.233</td>\n",
       "      <td>2720.0</td>\n",
       "      <td>8062.0</td>\n",
       "      <td>85.0</td>\n",
       "      <td>0.0</td>\n",
       "    </tr>\n",
       "    <tr>\n",
       "      <th>3</th>\n",
       "      <td>604000.0</td>\n",
       "      <td>4.0</td>\n",
       "      <td>3.00</td>\n",
       "      <td>1960.0</td>\n",
       "      <td>5000.0</td>\n",
       "      <td>1.0</td>\n",
       "      <td>0.0</td>\n",
       "      <td>0.0</td>\n",
       "      <td>5.0</td>\n",
       "      <td>7.0</td>\n",
       "      <td>1050.0</td>\n",
       "      <td>910.0</td>\n",
       "      <td>47.5208</td>\n",
       "      <td>-122.393</td>\n",
       "      <td>1360.0</td>\n",
       "      <td>5000.0</td>\n",
       "      <td>53.0</td>\n",
       "      <td>0.0</td>\n",
       "    </tr>\n",
       "    <tr>\n",
       "      <th>4</th>\n",
       "      <td>510000.0</td>\n",
       "      <td>3.0</td>\n",
       "      <td>2.00</td>\n",
       "      <td>1680.0</td>\n",
       "      <td>8080.0</td>\n",
       "      <td>1.0</td>\n",
       "      <td>0.0</td>\n",
       "      <td>0.0</td>\n",
       "      <td>3.0</td>\n",
       "      <td>8.0</td>\n",
       "      <td>1680.0</td>\n",
       "      <td>0.0</td>\n",
       "      <td>47.6168</td>\n",
       "      <td>-122.045</td>\n",
       "      <td>1800.0</td>\n",
       "      <td>7503.0</td>\n",
       "      <td>31.0</td>\n",
       "      <td>0.0</td>\n",
       "    </tr>\n",
       "  </tbody>\n",
       "</table>\n",
       "</div>"
      ],
      "text/plain": [
       "      price  bedrooms  bathrooms  sqft_living  sqft_lot  floors  waterfront  \\\n",
       "0  221900.0       3.0       1.00       1180.0    5650.0     1.0         0.0   \n",
       "1  538000.0       3.0       2.25       2570.0    7242.0     2.0         0.0   \n",
       "2  180000.0       2.0       1.00        770.0   10000.0     1.0         0.0   \n",
       "3  604000.0       4.0       3.00       1960.0    5000.0     1.0         0.0   \n",
       "4  510000.0       3.0       2.00       1680.0    8080.0     1.0         0.0   \n",
       "\n",
       "   view  condition  grade  sqft_above  sqft_basement      lat     long  \\\n",
       "0   0.0        3.0    7.0      1180.0            0.0  47.5112 -122.257   \n",
       "1   0.0        3.0    7.0      2170.0          400.0  47.7210 -122.319   \n",
       "2   0.0        3.0    6.0       770.0            0.0  47.7379 -122.233   \n",
       "3   0.0        5.0    7.0      1050.0          910.0  47.5208 -122.393   \n",
       "4   0.0        3.0    8.0      1680.0            0.0  47.6168 -122.045   \n",
       "\n",
       "   sqft_living15  sqft_lot15   age  renovated  \n",
       "0         1340.0      5650.0  63.0        0.0  \n",
       "1         1690.0      7639.0  67.0        1.0  \n",
       "2         2720.0      8062.0  85.0        0.0  \n",
       "3         1360.0      5000.0  53.0        0.0  \n",
       "4         1800.0      7503.0  31.0        0.0  "
      ]
     },
     "execution_count": 4,
     "metadata": {},
     "output_type": "execute_result"
    }
   ],
   "source": [
    "housesale_df.head()"
   ]
  },
  {
   "cell_type": "code",
   "execution_count": 5,
   "metadata": {},
   "outputs": [
    {
     "data": {
      "text/plain": [
       "(21597, 17)"
      ]
     },
     "execution_count": 5,
     "metadata": {},
     "output_type": "execute_result"
    }
   ],
   "source": [
    "X = housesale_df.drop('price', axis = 1)\n",
    "y = housesale_df['price']\n",
    "\n",
    "X.shape"
   ]
  },
  {
   "cell_type": "markdown",
   "metadata": {},
   "source": [
    "## Feature Selection : f_regression\n",
    "* f_regression : Linear model for testing the individual effect of each of many regressors. Based on ANOVA.\n",
    "\n",
    "* SelectKBest A feature selection method from sklearn that can be used with a suite of different statistical tests to select a specific number of features. Uses f-score computed using ANOVA to select k best features.\n",
    "\n",
    "https://scikit-learn.org/stable/modules/generated/sklearn.feature_selection.f_regression.html#sklearn.feature_selection.f_regression\n",
    "\n",
    "https://scikit-learn.org/stable/modules/generated/sklearn.feature_selection.SelectKBest.html"
   ]
  },
  {
   "cell_type": "code",
   "execution_count": 6,
   "metadata": {},
   "outputs": [],
   "source": [
    "from sklearn.feature_selection import f_regression, SelectKBest\n",
    "\n",
    "select_features = SelectKBest(f_regression, k = 3)"
   ]
  },
  {
   "cell_type": "code",
   "execution_count": 7,
   "metadata": {},
   "outputs": [],
   "source": [
    "X_new = select_features.fit_transform(X, y)"
   ]
  },
  {
   "cell_type": "code",
   "execution_count": 8,
   "metadata": {},
   "outputs": [
    {
     "data": {
      "text/plain": [
       "(21597, 3)"
      ]
     },
     "execution_count": 8,
     "metadata": {},
     "output_type": "execute_result"
    }
   ],
   "source": [
    "X_new.shape"
   ]
  },
  {
   "cell_type": "code",
   "execution_count": 9,
   "metadata": {},
   "outputs": [
    {
     "data": {
      "text/html": [
       "<div>\n",
       "<style scoped>\n",
       "    .dataframe tbody tr th:only-of-type {\n",
       "        vertical-align: middle;\n",
       "    }\n",
       "\n",
       "    .dataframe tbody tr th {\n",
       "        vertical-align: top;\n",
       "    }\n",
       "\n",
       "    .dataframe thead th {\n",
       "        text-align: right;\n",
       "    }\n",
       "</style>\n",
       "<table border=\"1\" class=\"dataframe\">\n",
       "  <thead>\n",
       "    <tr style=\"text-align: right;\">\n",
       "      <th></th>\n",
       "      <th>0</th>\n",
       "      <th>1</th>\n",
       "      <th>2</th>\n",
       "    </tr>\n",
       "  </thead>\n",
       "  <tbody>\n",
       "    <tr>\n",
       "      <th>0</th>\n",
       "      <td>1180.0</td>\n",
       "      <td>7.0</td>\n",
       "      <td>1180.0</td>\n",
       "    </tr>\n",
       "    <tr>\n",
       "      <th>1</th>\n",
       "      <td>2570.0</td>\n",
       "      <td>7.0</td>\n",
       "      <td>2170.0</td>\n",
       "    </tr>\n",
       "    <tr>\n",
       "      <th>2</th>\n",
       "      <td>770.0</td>\n",
       "      <td>6.0</td>\n",
       "      <td>770.0</td>\n",
       "    </tr>\n",
       "    <tr>\n",
       "      <th>3</th>\n",
       "      <td>1960.0</td>\n",
       "      <td>7.0</td>\n",
       "      <td>1050.0</td>\n",
       "    </tr>\n",
       "    <tr>\n",
       "      <th>4</th>\n",
       "      <td>1680.0</td>\n",
       "      <td>8.0</td>\n",
       "      <td>1680.0</td>\n",
       "    </tr>\n",
       "  </tbody>\n",
       "</table>\n",
       "</div>"
      ],
      "text/plain": [
       "        0    1       2\n",
       "0  1180.0  7.0  1180.0\n",
       "1  2570.0  7.0  2170.0\n",
       "2   770.0  6.0   770.0\n",
       "3  1960.0  7.0  1050.0\n",
       "4  1680.0  8.0  1680.0"
      ]
     },
     "execution_count": 9,
     "metadata": {},
     "output_type": "execute_result"
    }
   ],
   "source": [
    "X_new = pd.DataFrame(X_new)\n",
    "\n",
    "X_new.head()"
   ]
  },
  {
   "cell_type": "code",
   "execution_count": 10,
   "metadata": {},
   "outputs": [
    {
     "data": {
      "text/plain": [
       "['sqft_living', 'grade', 'sqft_above']"
      ]
     },
     "execution_count": 10,
     "metadata": {},
     "output_type": "execute_result"
    }
   ],
   "source": [
    "selected_features = []\n",
    "\n",
    "for i in range(len(X_new.columns)):\n",
    "    for j in range(len(X.columns)):\n",
    "        if(X_new.iloc[:,i].equals( X.iloc[:,j])):\n",
    "            selected_features.append(X.columns[j])\n",
    "            \n",
    "selected_features"
   ]
  },
  {
   "cell_type": "code",
   "execution_count": 11,
   "metadata": {},
   "outputs": [
    {
     "data": {
      "text/plain": [
       "{'age',\n",
       " 'bathrooms',\n",
       " 'bedrooms',\n",
       " 'condition',\n",
       " 'floors',\n",
       " 'lat',\n",
       " 'long',\n",
       " 'renovated',\n",
       " 'sqft_basement',\n",
       " 'sqft_living15',\n",
       " 'sqft_lot',\n",
       " 'sqft_lot15',\n",
       " 'view',\n",
       " 'waterfront'}"
      ]
     },
     "execution_count": 11,
     "metadata": {},
     "output_type": "execute_result"
    }
   ],
   "source": [
    "rejected_features = set(list(X)) - set(selected_features)\n",
    "\n",
    "rejected_features"
   ]
  },
  {
   "cell_type": "code",
   "execution_count": 12,
   "metadata": {},
   "outputs": [],
   "source": [
    "x_train, x_test, y_train, y_test = train_test_split(X_new, y, test_size = 0.2)"
   ]
  },
  {
   "cell_type": "code",
   "execution_count": 13,
   "metadata": {},
   "outputs": [
    {
     "data": {
      "text/plain": [
       "((17277, 3), (17277,))"
      ]
     },
     "execution_count": 13,
     "metadata": {},
     "output_type": "execute_result"
    }
   ],
   "source": [
    "x_train.shape, y_train.shape"
   ]
  },
  {
   "cell_type": "code",
   "execution_count": 14,
   "metadata": {},
   "outputs": [
    {
     "data": {
      "text/plain": [
       "((4320, 3), (4320,))"
      ]
     },
     "execution_count": 14,
     "metadata": {},
     "output_type": "execute_result"
    }
   ],
   "source": [
    "x_test.shape, y_test.shape"
   ]
  },
  {
   "cell_type": "code",
   "execution_count": 15,
   "metadata": {},
   "outputs": [],
   "source": [
    "model = sm.OLS(y_train, x_train)"
   ]
  },
  {
   "cell_type": "code",
   "execution_count": 16,
   "metadata": {},
   "outputs": [],
   "source": [
    "result = model.fit()"
   ]
  },
  {
   "cell_type": "code",
   "execution_count": 17,
   "metadata": {
    "scrolled": true
   },
   "outputs": [
    {
     "name": "stdout",
     "output_type": "stream",
     "text": [
      "                                 OLS Regression Results                                \n",
      "=======================================================================================\n",
      "Dep. Variable:                  price   R-squared (uncentered):                   0.844\n",
      "Model:                            OLS   Adj. R-squared (uncentered):              0.844\n",
      "Method:                 Least Squares   F-statistic:                          3.110e+04\n",
      "Date:                Tue, 11 May 2021   Prob (F-statistic):                        0.00\n",
      "Time:                        14:17:49   Log-Likelihood:                     -2.3968e+05\n",
      "No. Observations:               17277   AIC:                                  4.794e+05\n",
      "Df Residuals:                   17274   BIC:                                  4.794e+05\n",
      "Df Model:                           3                                                  \n",
      "Covariance Type:            nonrobust                                                  \n",
      "==============================================================================\n",
      "                 coef    std err          t      P>|t|      [0.025      0.975]\n",
      "------------------------------------------------------------------------------\n",
      "0            266.4456      4.563     58.393      0.000     257.502     275.390\n",
      "1           6543.8595    843.720      7.756      0.000    4890.083    8197.636\n",
      "2            -30.4545      4.947     -6.156      0.000     -40.152     -20.757\n",
      "==============================================================================\n",
      "Omnibus:                    11648.235   Durbin-Watson:                   1.974\n",
      "Prob(Omnibus):                  0.000   Jarque-Bera (JB):           299008.588\n",
      "Skew:                           2.877   Prob(JB):                         0.00\n",
      "Kurtosis:                      22.551   Cond. No.                     1.30e+03\n",
      "==============================================================================\n",
      "\n",
      "Notes:\n",
      "[1] R² is computed without centering (uncentered) since the model does not contain a constant.\n",
      "[2] Standard Errors assume that the covariance matrix of the errors is correctly specified.\n",
      "[3] The condition number is large, 1.3e+03. This might indicate that there are\n",
      "strong multicollinearity or other numerical problems.\n"
     ]
    }
   ],
   "source": [
    "print(result.summary())"
   ]
  },
  {
   "cell_type": "code",
   "execution_count": 18,
   "metadata": {},
   "outputs": [],
   "source": [
    "y_pred = result.predict(x_test)"
   ]
  },
  {
   "cell_type": "code",
   "execution_count": 19,
   "metadata": {},
   "outputs": [
    {
     "data": {
      "image/png": "[encoded data removed]",
      "text/plain": [
       "<Figure size 864x720 with 1 Axes>"
      ]
     },
     "metadata": {
      "needs_background": "light"
     },
     "output_type": "display_data"
    }
   ],
   "source": [
    "plt.figure(figsize = (12,10))\n",
    "\n",
    "plt.scatter(y_test.values, y_pred)\n",
    "\n",
    "plt.show()"
   ]
  },
  {
   "cell_type": "markdown",
   "metadata": {},
   "source": [
    "# Hyperparameter Tuning"
   ]
  },
  {
   "cell_type": "code",
   "execution_count": 20,
   "metadata": {},
   "outputs": [
    {
     "data": {
      "text/plain": [
       "['bedrooms',\n",
       " 'bathrooms',\n",
       " 'sqft_living',\n",
       " 'sqft_lot',\n",
       " 'floors',\n",
       " 'waterfront',\n",
       " 'view',\n",
       " 'condition',\n",
       " 'grade',\n",
       " 'sqft_above',\n",
       " 'sqft_basement',\n",
       " 'lat',\n",
       " 'long',\n",
       " 'sqft_living15',\n",
       " 'sqft_lot15',\n",
       " 'age',\n",
       " 'renovated']"
      ]
     },
     "execution_count": 20,
     "metadata": {},
     "output_type": "execute_result"
    }
   ],
   "source": [
    "FEATURES = list(housesale_df.columns[1:18])\n",
    "\n",
    "FEATURES"
   ]
  },
  {
   "cell_type": "code",
   "execution_count": 21,
   "metadata": {},
   "outputs": [],
   "source": [
    "def build_model(regression_fn,                \n",
    "                target, \n",
    "                features, \n",
    "                dataset,\n",
    "                preprocess_fn,\n",
    "                *hyperparameters):\n",
    "    \n",
    "    X = dataset[features]\n",
    "    Y = dataset[target]\n",
    "\n",
    "    X = preprocess_fn(X, Y, *hyperparameters)\n",
    "\n",
    "    x_train, x_test, y_train, y_test = train_test_split(X, Y, test_size=0.2)\n",
    "    \n",
    "    model = regression_fn(x_train, y_train)\n",
    "    \n",
    "    y_pred = model.predict(x_test)\n",
    "    \n",
    "    return {\n",
    "            'x_train' : x_train,\n",
    "            'x_test'  : x_test, \n",
    "            'y_train' : y_train,\n",
    "            'y_test'  : y_test,\n",
    "            'y_pred'  : y_pred,\n",
    "            'model'   : model\n",
    "           }     "
   ]
  },
  {
   "cell_type": "code",
   "execution_count": 22,
   "metadata": {},
   "outputs": [],
   "source": [
    "def compare_results(result_dict):\n",
    "    \n",
    "    for key in result_dict:\n",
    "        print('Test : ', key)\n",
    "        print('R-Squared', result_dict[key]['rsquared'])\n",
    "        print('Adjusted R-Squared', result_dict[key]['adj_rsquared'])\n",
    "        print()\n",
    "        \n",
    "    n_components = list(range(1, 18))\n",
    "    reg_score = [result_dict[key]['adj_rsquared'] for key in result_dict]\n",
    "\n",
    "    plt.figure(figsize = (12, 10))\n",
    "    plt.plot(n_components, reg_score)\n",
    "\n",
    "    pylab.ylim([0,1])\n",
    "    \n",
    "    plt.xlabel('n components')\n",
    "    plt.ylabel('adj_rsquared');"
   ]
  },
  {
   "cell_type": "code",
   "execution_count": 23,
   "metadata": {},
   "outputs": [],
   "source": [
    "def get_model_scores(model_params):\n",
    "    \n",
    "    result_dict = {}\n",
    "\n",
    "    for key in model_params:\n",
    "        result_dict[key] = {\n",
    "                            'rsquared' : model_params[key]['model'].rsquared,\n",
    "                            'adj_rsquared': model_params[key]['model'].rsquared_adj\n",
    "                           }\n",
    "        \n",
    "    compare_results(result_dict)"
   ]
  },
  {
   "cell_type": "code",
   "execution_count": 24,
   "metadata": {},
   "outputs": [],
   "source": [
    "def ols_reg(x_train, y_train):\n",
    "    \n",
    "    ols = sm.OLS(y_train, x_train)\n",
    "    \n",
    "    model = ols.fit()\n",
    "    \n",
    "    return model"
   ]
  },
  {
   "cell_type": "code",
   "execution_count": 25,
   "metadata": {},
   "outputs": [],
   "source": [
    "from sklearn.feature_selection import f_regression, SelectKBest\n",
    "\n",
    "def apply_f_regression(x, y, k, add_constant = False):\n",
    "    \n",
    "    select_features = SelectKBest(f_regression, k = k)\n",
    "    x_new = select_features.fit_transform(x, y)\n",
    "    \n",
    "    if add_constant is True:\n",
    "        x_new = sm.add_constant(x_new)\n",
    "        \n",
    "    return pd.DataFrame(x_new)"
   ]
  },
  {
   "cell_type": "code",
   "execution_count": 26,
   "metadata": {},
   "outputs": [],
   "source": [
    "model_params = {}\n",
    "\n",
    "for i in range (1, 18):\n",
    "    model_params['f_regression - k:' + str(i)] = build_model(ols_reg,\n",
    "                                                             'price',\n",
    "                                                              FEATURES,\n",
    "                                                              housesale_df,\n",
    "                                                              apply_f_regression,\n",
    "                                                              i,\n",
    "                                                              True)"
   ]
  },
  {
   "cell_type": "code",
   "execution_count": 27,
   "metadata": {},
   "outputs": [
    {
     "name": "stdout",
     "output_type": "stream",
     "text": [
      "Test :  f_regression - k:1\n",
      "R-Squared 0.49368738368367604\n",
      "Adjusted R-Squared 0.49365807470443923\n",
      "\n",
      "Test :  f_regression - k:2\n",
      "R-Squared 0.5337652575605\n",
      "Adjusted R-Squared 0.5337112764626142\n",
      "\n",
      "Test :  f_regression - k:3\n",
      "R-Squared 0.5422922001228613\n",
      "Adjusted R-Squared 0.5422127047601778\n",
      "\n",
      "Test :  f_regression - k:4\n",
      "R-Squared 0.5414420875097539\n",
      "Adjusted R-Squared 0.5413358906796264\n",
      "\n",
      "Test :  f_regression - k:5\n",
      "R-Squared 0.5476448257235446\n",
      "Adjusted R-Squared 0.5475138677088736\n",
      "\n",
      "Test :  f_regression - k:6\n",
      "R-Squared 0.5738782100322277\n",
      "Adjusted R-Squared 0.5737301654034028\n",
      "\n",
      "Test :  f_regression - k:7\n",
      "R-Squared 0.5765819510503347\n",
      "Adjusted R-Squared 0.5764348457640754\n",
      "\n",
      "Test :  f_regression - k:8\n",
      "R-Squared 0.5810151202618394\n",
      "Adjusted R-Squared 0.5808452844775921\n",
      "\n",
      "Test :  f_regression - k:9\n",
      "R-Squared 0.6413518373628727\n",
      "Adjusted R-Squared 0.6411856811605854\n",
      "\n",
      "Test :  f_regression - k:10\n",
      "R-Squared 0.6543230952832904\n",
      "Adjusted R-Squared 0.6541429196799748\n",
      "\n",
      "Test :  f_regression - k:11\n",
      "R-Squared 0.6564228074853216\n",
      "Adjusted R-Squared 0.6562238168722585\n",
      "\n",
      "Test :  f_regression - k:12\n",
      "R-Squared 0.6625738725165476\n",
      "Adjusted R-Squared 0.6623588891743919\n",
      "\n",
      "Test :  f_regression - k:13\n",
      "R-Squared 0.6599725327649069\n",
      "Adjusted R-Squared 0.659736183737635\n",
      "\n",
      "Test :  f_regression - k:14\n",
      "R-Squared 0.6608036674899639\n",
      "Adjusted R-Squared 0.6605482337691373\n",
      "\n",
      "Test :  f_regression - k:15\n",
      "R-Squared 0.6939149285382689\n",
      "Adjusted R-Squared 0.6936666843602788\n",
      "\n",
      "Test :  f_regression - k:16\n",
      "R-Squared 0.697812398051023\n",
      "Adjusted R-Squared 0.6975497936811004\n",
      "\n",
      "Test :  f_regression - k:17\n",
      "R-Squared 0.6989597928195839\n",
      "Adjusted R-Squared 0.6986807288963575\n",
      "\n"
     ]
    },
    {
     "data": {
      "image/png": "[encoded data removed]",
      "text/plain": [
       "<Figure size 864x720 with 1 Axes>"
      ]
     },
     "metadata": {
      "needs_background": "light"
     },
     "output_type": "display_data"
    }
   ],
   "source": [
    "get_model_scores(model_params)"
   ]
  },
  {
   "cell_type": "markdown",
   "metadata": {},
   "source": [
    "# Sklearn Regression Model"
   ]
  },
  {
   "cell_type": "code",
   "execution_count": 28,
   "metadata": {},
   "outputs": [],
   "source": [
    "def linear_reg(x_train, y_train):\n",
    "    \n",
    "    model = LinearRegression().fit(x_train, y_train)\n",
    "    \n",
    "    return model"
   ]
  },
  {
   "cell_type": "code",
   "execution_count": 29,
   "metadata": {},
   "outputs": [],
   "source": [
    "sklearn_model = {}\n",
    "\n",
    "sklearn_model['f_regression'] = build_model(linear_reg,\n",
    "                                          'price',\n",
    "                                           FEATURES,\n",
    "                                           housesale_df,\n",
    "                                           apply_f_regression,\n",
    "                                           9)"
   ]
  },
  {
   "cell_type": "markdown",
   "metadata": {},
   "source": [
    "### Evaluate Model"
   ]
  },
  {
   "cell_type": "code",
   "execution_count": 30,
   "metadata": {},
   "outputs": [],
   "source": [
    "model   = sklearn_model['f_regression']['model']\n",
    "x_train = sklearn_model['f_regression']['x_train']\n",
    "x_test  = sklearn_model['f_regression']['x_test']\n",
    "y_train = sklearn_model['f_regression']['y_train']\n",
    "y_test  = sklearn_model['f_regression']['y_test']\n",
    "y_pred  = sklearn_model['f_regression']['y_pred']"
   ]
  },
  {
   "cell_type": "code",
   "execution_count": 31,
   "metadata": {
    "scrolled": true
   },
   "outputs": [
    {
     "name": "stdout",
     "output_type": "stream",
     "text": [
      "Training score:  0.6426566257525651\n",
      "Testing score:  0.6298447814999404\n"
     ]
    }
   ],
   "source": [
    "print('Training score: ', model.score(x_train, y_train))\n",
    "print('Testing score: ', r2_score(y_test, y_pred))"
   ]
  },
  {
   "cell_type": "code",
   "execution_count": 32,
   "metadata": {
    "scrolled": true
   },
   "outputs": [
    {
     "data": {
      "image/png": "[encoded data removed]",
      "text/plain": [
       "<Figure size 864x720 with 1 Axes>"
      ]
     },
     "metadata": {
      "needs_background": "light"
     },
     "output_type": "display_data"
    }
   ],
   "source": [
    "plt.figure(figsize = (12, 10))\n",
    "\n",
    "plt.scatter(y_test.values, y_pred)\n",
    "\n",
    "plt.show()"
   ]
  },
  {
   "cell_type": "markdown",
   "metadata": {},
   "source": [
    "## Feature Selection : mutual_info_regression\n",
    "*  mutual_info_regression : Estimate mutual information for a continuous target variable.\n",
    "* Mutual information between two random variables is a non-negative value, which measures the dependency between the variables. \n",
    "* It is equal to zero if and only if two random variables are independent, and higher values mean higher dependency.\n",
    "\n",
    "https://scikit-learn.org/stable/modules/generated/sklearn.feature_selection.mutual_info_regression.html#sklearn.feature_selection.mutual_info_regression"
   ]
  },
  {
   "cell_type": "code",
   "execution_count": 33,
   "metadata": {},
   "outputs": [],
   "source": [
    "from sklearn.feature_selection import mutual_info_regression\n",
    "\n",
    "def apply_mutual_info_regression(x, y, k, add_constant = False):\n",
    "    \n",
    "    select_features = SelectKBest(mutual_info_regression, k = k)  \n",
    "    x_new = select_features.fit_transform(x, y)\n",
    "    \n",
    "    if add_constant is True: \n",
    "        x_new = sm.add_constant(x_new)\n",
    "\n",
    "    return pd.DataFrame(x_new)"
   ]
  },
  {
   "cell_type": "code",
   "execution_count": 34,
   "metadata": {},
   "outputs": [],
   "source": [
    "model_params = {}\n",
    "\n",
    "for i in range (1, 18):\n",
    "    model_params['mutual_info_regression - k:' + str(i)] = build_model(ols_reg,\n",
    "                                                                      'price',\n",
    "                                                                       FEATURES,\n",
    "                                                                       housesale_df,\n",
    "                                                                       apply_mutual_info_regression,\n",
    "                                                                       i,\n",
    "                                                                       True)"
   ]
  },
  {
   "cell_type": "code",
   "execution_count": 35,
   "metadata": {},
   "outputs": [
    {
     "name": "stdout",
     "output_type": "stream",
     "text": [
      "Test :  mutual_info_regression - k:1\n",
      "R-Squared 0.49256088657647923\n",
      "Adjusted R-Squared 0.492531512387569\n",
      "\n",
      "Test :  mutual_info_regression - k:2\n",
      "R-Squared 0.5285979906641343\n",
      "Adjusted R-Squared 0.5285434112952173\n",
      "\n",
      "Test :  mutual_info_regression - k:3\n",
      "R-Squared 0.5940129065571479\n",
      "Adjusted R-Squared 0.5939423941226936\n",
      "\n",
      "Test :  mutual_info_regression - k:4\n",
      "R-Squared 0.6000872015288052\n",
      "Adjusted R-Squared 0.5999945862443051\n",
      "\n",
      "Test :  mutual_info_regression - k:5\n",
      "R-Squared 0.6013533194121077\n",
      "Adjusted R-Squared 0.6012379101478531\n",
      "\n",
      "Test :  mutual_info_regression - k:6\n",
      "R-Squared 0.6005316463514205\n",
      "Adjusted R-Squared 0.6003928617467946\n",
      "\n",
      "Test :  mutual_info_regression - k:7\n",
      "R-Squared 0.6188382059649542\n",
      "Adjusted R-Squared 0.6186837017922606\n",
      "\n",
      "Test :  mutual_info_regression - k:8\n",
      "R-Squared 0.6198936255040342\n",
      "Adjusted R-Squared 0.6197175280407513\n",
      "\n",
      "Test :  mutual_info_regression - k:9\n",
      "R-Squared 0.6192616060312075\n",
      "Adjusted R-Squared 0.6190631554870645\n",
      "\n",
      "Test :  mutual_info_regression - k:10\n",
      "R-Squared 0.6207332303913211\n",
      "Adjusted R-Squared 0.620513569340928\n",
      "\n",
      "Test :  mutual_info_regression - k:11\n",
      "R-Squared 0.6556020411910501\n",
      "Adjusted R-Squared 0.6554025752123585\n",
      "\n",
      "Test :  mutual_info_regression - k:12\n",
      "R-Squared 0.6559496107119598\n",
      "Adjusted R-Squared 0.6557304068728536\n",
      "\n",
      "Test :  mutual_info_regression - k:13\n",
      "R-Squared 0.6488788310269845\n",
      "Adjusted R-Squared 0.6486347709002656\n",
      "\n",
      "Test :  mutual_info_regression - k:14\n",
      "R-Squared 0.6752544780314099\n",
      "Adjusted R-Squared 0.6750099265753715\n",
      "\n",
      "Test :  mutual_info_regression - k:15\n",
      "R-Squared 0.6875019905337526\n",
      "Adjusted R-Squared 0.6872485452706008\n",
      "\n",
      "Test :  mutual_info_regression - k:16\n",
      "R-Squared 0.693471069586227\n",
      "Adjusted R-Squared 0.6932046925538299\n",
      "\n",
      "Test :  mutual_info_regression - k:17\n",
      "R-Squared 0.6944800900028676\n",
      "Adjusted R-Squared 0.694196873400321\n",
      "\n"
     ]
    },
    {
     "data": {
      "image/png": "[encoded data removed]",
      "text/plain": [
       "<Figure size 864x720 with 1 Axes>"
      ]
     },
     "metadata": {
      "needs_background": "light"
     },
     "output_type": "display_data"
    }
   ],
   "source": [
    "get_model_scores(model_params)"
   ]
  },
  {
   "cell_type": "markdown",
   "metadata": {},
   "source": [
    "# Sklearn Regression Model"
   ]
  },
  {
   "cell_type": "code",
   "execution_count": 36,
   "metadata": {},
   "outputs": [],
   "source": [
    "sklearn_model = {}\n",
    "\n",
    "sklearn_model['mutual_info_regression'] = build_model(linear_reg,\n",
    "                                                      'price',\n",
    "                                                       FEATURES,\n",
    "                                                       housesale_df,\n",
    "                                                       apply_mutual_info_regression,\n",
    "                                                       4)"
   ]
  },
  {
   "cell_type": "markdown",
   "metadata": {},
   "source": [
    "### Evaluate Model"
   ]
  },
  {
   "cell_type": "code",
   "execution_count": 37,
   "metadata": {},
   "outputs": [],
   "source": [
    "model   = sklearn_model['mutual_info_regression']['model']\n",
    "x_train = sklearn_model['mutual_info_regression']['x_train']\n",
    "x_test  = sklearn_model['mutual_info_regression']['x_test']\n",
    "y_train = sklearn_model['mutual_info_regression']['y_train']\n",
    "y_test  = sklearn_model['mutual_info_regression']['y_test']\n",
    "y_pred  = sklearn_model['mutual_info_regression']['y_pred']"
   ]
  },
  {
   "cell_type": "code",
   "execution_count": 38,
   "metadata": {},
   "outputs": [
    {
     "name": "stdout",
     "output_type": "stream",
     "text": [
      "Training score:  0.5989455026549473\n",
      "Testing score:  0.5883925962469405\n"
     ]
    }
   ],
   "source": [
    "print('Training score: ', model.score(x_train, y_train))\n",
    "print('Testing score: ', r2_score(y_test, y_pred))"
   ]
  },
  {
   "cell_type": "code",
   "execution_count": 39,
   "metadata": {
    "scrolled": true
   },
   "outputs": [
    {
     "data": {
      "image/png": "[encoded data removed]",
      "text/plain": [
       "<Figure size 864x720 with 1 Axes>"
      ]
     },
     "metadata": {
      "needs_background": "light"
     },
     "output_type": "display_data"
    }
   ],
   "source": [
    "plt.figure(figsize = (12, 10))\n",
    "\n",
    "plt.scatter(y_test.values, y_pred)\n",
    "\n",
    "plt.show()"
   ]
  },
  {
   "cell_type": "code",
   "execution_count": 40,
   "metadata": {},
   "outputs": [
    {
     "ename": "ModuleNotFoundError",
     "evalue": "No module named 'pytorch'",
     "output_type": "error",
     "traceback": [
      "\u001b[0;31m---------------------------------------------------------------------------\u001b[0m",
      "\u001b[0;31mModuleNotFoundError\u001b[0m                       Traceback (most recent call last)",
      "\u001b[0;32m<ipython-input-40-d35c46f8d1a2>\u001b[0m in \u001b[0;36m<module>\u001b[0;34m\u001b[0m\n\u001b[0;32m----> 1\u001b[0;31m \u001b[0;32mimport\u001b[0m \u001b[0mpytorch\u001b[0m\u001b[0;34m\u001b[0m\u001b[0;34m\u001b[0m\u001b[0m\n\u001b[0m",
      "\u001b[0;31mModuleNotFoundError\u001b[0m: No module named 'pytorch'"
     ]
    }
   ],
   "source": [
    "import pytorch"
   ]
  },
  {
   "cell_type": "code",
   "execution_count": null,
   "metadata": {},
   "outputs": [],
   "source": [
    "!conda install pytorch torchvision torchaudio -c pytorch -y"
   ]
  }
 ],
 "metadata": {
  "kernelspec": {
   "display_name": "Python 3",
   "language": "python",
   "name": "python3"
  },
  "language_info": {
   "codemirror_mode": {
    "name": "ipython",
    "version": 3
   },
   "file_extension": ".py",
   "mimetype": "text/x-python",
   "name": "python",
   "nbconvert_exporter": "python",
   "pygments_lexer": "ipython3",
   "version": "3.8.3"
  }
 },
 "nbformat": 4,
 "nbformat_minor": 2
}
