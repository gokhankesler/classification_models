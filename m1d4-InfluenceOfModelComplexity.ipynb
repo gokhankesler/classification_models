{
 "cells": [
  {
   "cell_type": "code",
   "execution_count": 1,
   "metadata": {},
   "outputs": [],
   "source": [
    "import gc\n",
    "import time\n",
    "\n",
    "import numpy as np\n",
    "import pandas as pd\n",
    "import matplotlib.pyplot as plt\n",
    "import seaborn as sns\n",
    "\n",
    "import sklearn\n",
    "from sklearn.datasets import make_classification\n",
    "from sklearn.model_selection import train_test_split\n",
    "from sklearn.preprocessing import StandardScaler\n",
    "from sklearn.metrics import hamming_loss\n",
    "from scipy.sparse.csr import csr_matrix\n",
    "\n",
    "from sklearn.linear_model.stochastic_gradient import SGDClassifier\n",
    "from sklearn.ensemble.gradient_boosting import GradientBoostingClassifier"
   ]
  },
  {
   "cell_type": "markdown",
   "metadata": {},
   "source": [
    "https://scikit-learn.org/stable/auto_examples/applications/plot_model_complexity_influence.html"
   ]
  },
  {
   "cell_type": "code",
   "execution_count": 2,
   "metadata": {},
   "outputs": [],
   "source": [
    "def generate_dataset_classification():\n",
    "    \n",
    "    print(\"generating dataset...\")\n",
    "    \n",
    "    data = sklearn.datasets.fetch_20newsgroups_vectorized(subset='all')\n",
    "\n",
    "    X, y = csr_matrix(data.data), np.array(data.target)\n",
    "\n",
    "    X_train, X_test, y_train, y_test = train_test_split(\n",
    "        X, y, test_size=0.2, random_state=5)\n",
    "\n",
    "    gc.collect()\n",
    "    \n",
    "    print('dataset generation complete...')\n",
    "    \n",
    "    return X_train, y_train, X_test, y_test"
   ]
  },
  {
   "cell_type": "code",
   "execution_count": 3,
   "metadata": {},
   "outputs": [],
   "source": [
    "def atomic_predict(X_test, model):\n",
    "    \n",
    "    prediction_latencies = []\n",
    "    \n",
    "    for i in range(X_test.shape[0]):\n",
    "        start = time.time()\n",
    "        y_pred = model.predict(X_test[i].reshape(1, -1))\n",
    "        \n",
    "        prediction_latencies.append(time.time() - start)\n",
    "        \n",
    "    prediction_latencies = np.array(prediction_latencies)\n",
    "    \n",
    "    return np.percentile(prediction_latencies, 50)"
   ]
  },
  {
   "cell_type": "code",
   "execution_count": 4,
   "metadata": {},
   "outputs": [],
   "source": [
    "def build_and_predict(model, \n",
    "                      X_train, y_train, X_test, y_test,\n",
    "                      complexity_fn):\n",
    "    \n",
    "    model.fit(X_train, y_train)\n",
    "\n",
    "\n",
    "    start = time.time()\n",
    "    y_pred = model.predict(X_test)\n",
    "\n",
    "    prediction_latency = time.time() - start\n",
    "\n",
    "    complexity = complexity_fn(model)\n",
    "\n",
    "    performance_score = hamming_loss(y_test, y_pred)\n",
    "    \n",
    "    return [complexity, prediction_latency, performance_score]"
   ]
  },
  {
   "cell_type": "code",
   "execution_count": 5,
   "metadata": {},
   "outputs": [
    {
     "name": "stdout",
     "output_type": "stream",
     "text": [
      "generating dataset...\n",
      "dataset generation complete...\n"
     ]
    }
   ],
   "source": [
    "X_train, y_train, X_test, y_test = generate_dataset_classification()"
   ]
  },
  {
   "cell_type": "code",
   "execution_count": 6,
   "metadata": {},
   "outputs": [
    {
     "data": {
      "text/plain": [
       "((15076, 130107), (15076,))"
      ]
     },
     "execution_count": 6,
     "metadata": {},
     "output_type": "execute_result"
    }
   ],
   "source": [
    "X_train.shape, y_train.shape"
   ]
  },
  {
   "cell_type": "code",
   "execution_count": 7,
   "metadata": {},
   "outputs": [
    {
     "data": {
      "text/plain": [
       "((3770, 130107), (3770,))"
      ]
     },
     "execution_count": 7,
     "metadata": {},
     "output_type": "execute_result"
    }
   ],
   "source": [
    "X_test.shape, y_test.shape"
   ]
  },
  {
   "cell_type": "code",
   "execution_count": 8,
   "metadata": {},
   "outputs": [],
   "source": [
    "sgd_classifier = SGDClassifier(penalty='elasticnet', alpha=0.001, tol=1e-1)\n",
    "\n",
    "def _count_nonzero_coefficients(estimator):\n",
    "    return np.count_nonzero(estimator.coef_)"
   ]
  },
  {
   "cell_type": "code",
   "execution_count": 10,
   "metadata": {},
   "outputs": [
    {
     "data": {
      "text/plain": [
       "[2370, 0.03802299499511719, 0.2872679045092838]"
      ]
     },
     "execution_count": 10,
     "metadata": {},
     "output_type": "execute_result"
    }
   ],
   "source": [
    "build_and_predict(sgd_classifier, \n",
    "                  X_train, y_train, X_test, y_test,\n",
    "                  _count_nonzero_coefficients)"
   ]
  },
  {
   "cell_type": "code",
   "execution_count": 11,
   "metadata": {},
   "outputs": [],
   "source": [
    "def plot_model_details(performance_details):\n",
    "    \n",
    "    plt.figure(figsize=(10, 8))\n",
    "    plt.subplots_adjust(right=0.75)\n",
    "\n",
    "    plt.plot([row[0] for row in performance_details],\n",
    "             [row[1] for row in performance_details])\n",
    "    \n",
    "    plt.plot([row[0] for row in performance_details],\n",
    "             [row[2] for row in performance_details])"
   ]
  },
  {
   "cell_type": "code",
   "execution_count": 12,
   "metadata": {},
   "outputs": [],
   "source": [
    "model_performance = {}"
   ]
  },
  {
   "cell_type": "code",
   "execution_count": 13,
   "metadata": {},
   "outputs": [],
   "source": [
    "l1_ratios = [0.25, 0.5, 0.75, 0.9]\n",
    "\n",
    "model_performance['sgd_classifier'] = []\n",
    "\n",
    "for ratio in l1_ratios:\n",
    "    sgd_classifier = SGDClassifier(penalty='elasticnet', \n",
    "                                   alpha=0.001, tol=1e-1, l1_ratio=ratio)\n",
    "    \n",
    "    performance_details = build_and_predict(sgd_classifier, \n",
    "                                            X_train, y_train, X_test, y_test,\n",
    "                                            _count_nonzero_coefficients)\n",
    "    \n",
    "    model_performance['sgd_classifier'].append(performance_details)"
   ]
  },
  {
   "cell_type": "code",
   "execution_count": 14,
   "metadata": {},
   "outputs": [
    {
     "data": {
      "text/plain": [
       "[[795, 0.026153087615966797, 0.336604774535809],\n",
       " [214, 0.027158021926879883, 0.4750663129973475],\n",
       " [77, 0.04092597961425781, 0.5790450928381963],\n",
       " [43, 0.02581191062927246, 0.5936339522546419]]"
      ]
     },
     "execution_count": 14,
     "metadata": {},
     "output_type": "execute_result"
    }
   ],
   "source": [
    "performance_details = model_performance['sgd_classifier']\n",
    "\n",
    "performance_details"
   ]
  },
  {
   "cell_type": "code",
   "execution_count": 15,
   "metadata": {},
   "outputs": [
    {
     "data": {
      "image/png": "[encoded data removed]",
      "text/plain": [
       "<Figure size 720x576 with 1 Axes>"
      ]
     },
     "metadata": {
      "needs_background": "light"
     },
     "output_type": "display_data"
    }
   ],
   "source": [
    "plot_model_details(performance_details)"
   ]
  },
  {
   "cell_type": "code",
   "execution_count": null,
   "metadata": {},
   "outputs": [],
   "source": [
    "def _num_estimators(estimator):\n",
    "    return estimator.n_estimators"
   ]
  },
  {
   "cell_type": "code",
   "execution_count": null,
   "metadata": {},
   "outputs": [],
   "source": [
    "n_estimators = [3, 5, 8, 10, 12]\n",
    "\n",
    "model_performance['gb_classifier'] = []\n",
    "\n",
    "for n_estimator in n_estimators:\n",
    "    gb_classifier = GradientBoostingClassifier(n_estimators=n_estimator)\n",
    "    \n",
    "    performance_details = build_and_predict(gb_classifier, \n",
    "                                            X_train, y_train, X_test, y_test,\n",
    "                                            _num_estimators)\n",
    "    \n",
    "    model_performance['gb_classifier'].append(performance_details)\n",
    "    \n",
    "    print('Training complete', n_estimator)"
   ]
  },
  {
   "cell_type": "code",
   "execution_count": null,
   "metadata": {},
   "outputs": [],
   "source": [
    "performance_details = model_performance['gb_classifier']\n",
    "\n",
    "performance_details"
   ]
  },
  {
   "cell_type": "code",
   "execution_count": null,
   "metadata": {},
   "outputs": [],
   "source": [
    "plot_model_details(performance_details)"
   ]
  },
  {
   "cell_type": "code",
   "execution_count": null,
   "metadata": {},
   "outputs": [],
   "source": []
  },
  {
   "cell_type": "code",
   "execution_count": null,
   "metadata": {},
   "outputs": [],
   "source": []
  },
  {
   "cell_type": "code",
   "execution_count": null,
   "metadata": {},
   "outputs": [],
   "source": []
  },
  {
   "cell_type": "code",
   "execution_count": null,
   "metadata": {},
   "outputs": [],
   "source": []
  },
  {
   "cell_type": "code",
   "execution_count": null,
   "metadata": {},
   "outputs": [],
   "source": []
  },
  {
   "cell_type": "code",
   "execution_count": null,
   "metadata": {},
   "outputs": [],
   "source": []
  },
  {
   "cell_type": "code",
   "execution_count": null,
   "metadata": {},
   "outputs": [],
   "source": []
  },
  {
   "cell_type": "code",
   "execution_count": null,
   "metadata": {},
   "outputs": [],
   "source": []
  },
  {
   "cell_type": "code",
   "execution_count": null,
   "metadata": {},
   "outputs": [],
   "source": []
  },
  {
   "cell_type": "code",
   "execution_count": null,
   "metadata": {},
   "outputs": [],
   "source": []
  },
  {
   "cell_type": "code",
   "execution_count": null,
   "metadata": {},
   "outputs": [],
   "source": []
  },
  {
   "cell_type": "code",
   "execution_count": null,
   "metadata": {
    "collapsed": true
   },
   "outputs": [],
   "source": []
  },
  {
   "cell_type": "code",
   "execution_count": null,
   "metadata": {
    "collapsed": true
   },
   "outputs": [],
   "source": []
  }
 ],
 "metadata": {
  "kernelspec": {
   "display_name": "Python 3",
   "language": "python",
   "name": "python3"
  },
  "language_info": {
   "codemirror_mode": {
    "name": "ipython",
    "version": 3
   },
   "file_extension": ".py",
   "mimetype": "text/x-python",
   "name": "python",
   "nbconvert_exporter": "python",
   "pygments_lexer": "ipython3",
   "version": "3.6.9"
  }
 },
 "nbformat": 4,
 "nbformat_minor": 2
}
