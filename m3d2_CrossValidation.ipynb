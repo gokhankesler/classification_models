{
 "cells": [
  {
   "cell_type": "markdown",
   "metadata": {},
   "source": [
    "Observe time difference for training both models"
   ]
  },
  {
   "cell_type": "code",
   "execution_count": 1,
   "metadata": {},
   "outputs": [],
   "source": [
    "import numpy as np\n",
    "import matplotlib.pyplot as plt\n",
    "\n",
    "from sklearn.datasets import load_digits"
   ]
  },
  {
   "cell_type": "code",
   "execution_count": 2,
   "metadata": {},
   "outputs": [],
   "source": [
    "digits = load_digits()\n",
    "\n",
    "X, y = digits.data, digits.target"
   ]
  },
  {
   "cell_type": "code",
   "execution_count": 3,
   "metadata": {},
   "outputs": [
    {
     "data": {
      "text/plain": [
       "array([ 0.,  0.,  0., 12., 13.,  5.,  0.,  0.,  0.,  0.,  0., 11., 16.,\n",
       "        9.,  0.,  0.,  0.,  0.,  3., 15., 16.,  6.,  0.,  0.,  0.,  7.,\n",
       "       15., 16., 16.,  2.,  0.,  0.,  0.,  0.,  1., 16., 16.,  3.,  0.,\n",
       "        0.,  0.,  0.,  1., 16., 16.,  6.,  0.,  0.,  0.,  0.,  1., 16.,\n",
       "       16.,  6.,  0.,  0.,  0.,  0.,  0., 11., 16., 10.,  0.,  0.])"
      ]
     },
     "execution_count": 3,
     "metadata": {},
     "output_type": "execute_result"
    }
   ],
   "source": [
    "X[1]"
   ]
  },
  {
   "cell_type": "code",
   "execution_count": 4,
   "metadata": {},
   "outputs": [
    {
     "data": {
      "text/plain": [
       "(64,)"
      ]
     },
     "execution_count": 4,
     "metadata": {},
     "output_type": "execute_result"
    }
   ],
   "source": [
    "X[1].shape"
   ]
  },
  {
   "cell_type": "code",
   "execution_count": 5,
   "metadata": {},
   "outputs": [
    {
     "data": {
      "text/plain": [
       "1"
      ]
     },
     "execution_count": 5,
     "metadata": {},
     "output_type": "execute_result"
    }
   ],
   "source": [
    "y[1]"
   ]
  },
  {
   "cell_type": "code",
   "execution_count": 6,
   "metadata": {},
   "outputs": [
    {
     "data": {
      "text/plain": [
       "<Figure size 432x288 with 0 Axes>"
      ]
     },
     "metadata": {},
     "output_type": "display_data"
    },
    {
     "data": {
      "image/png": "[encoded data removed]",
      "text/plain": [
       "<Figure size 288x288 with 1 Axes>"
      ]
     },
     "metadata": {
      "needs_background": "light"
     },
     "output_type": "display_data"
    }
   ],
   "source": [
    "plt.gray()\n",
    "plt.matshow(digits.images[1])\n",
    "\n",
    "plt.show() "
   ]
  },
  {
   "cell_type": "code",
   "execution_count": 7,
   "metadata": {},
   "outputs": [],
   "source": [
    "from sklearn.svm import SVC\n",
    "from sklearn.model_selection import cross_val_score"
   ]
  },
  {
   "cell_type": "markdown",
   "metadata": {},
   "source": [
    "We need to run below cell to remove all future warnings"
   ]
  },
  {
   "cell_type": "markdown",
   "metadata": {
    "collapsed": true
   },
   "source": [
    "from warnings import simplefilter\n",
    "\n",
    "simplefilter(action='ignore', category=FutureWarning)"
   ]
  },
  {
   "cell_type": "markdown",
   "metadata": {},
   "source": [
    "Note = n_jobs= -1 (here -1 represents maximum parallelism available by hardware)"
   ]
  },
  {
   "cell_type": "code",
   "execution_count": 10,
   "metadata": {},
   "outputs": [
    {
     "name": "stdout",
     "output_type": "stream",
     "text": [
      "5.01 s ± 633 ms per loop (mean ± std. dev. of 7 runs, 1 loop each)\n"
     ]
    }
   ],
   "source": [
    "%timeit single_core_learning = cross_val_score(SVC(gamma = 'auto'), X, y, cv=20, n_jobs=-1)"
   ]
  },
  {
   "cell_type": "code",
   "execution_count": 9,
   "metadata": {},
   "outputs": [
    {
     "data": {
      "text/plain": [
       "4"
      ]
     },
     "execution_count": 9,
     "metadata": {},
     "output_type": "execute_result"
    }
   ],
   "source": [
    "import os\n",
    "\n",
    "os.cpu_count()"
   ]
  },
  {
   "cell_type": "markdown",
   "metadata": {},
   "source": [
    "#### Create as many processes as there are CPU cores in your system\n",
    "Setting n_jobs to -1 will actually set it to a value equal to os.cpu_count()"
   ]
  },
  {
   "cell_type": "code",
   "execution_count": 10,
   "metadata": {},
   "outputs": [
    {
     "name": "stdout",
     "output_type": "stream",
     "text": [
      "4.8 s ± 647 ms per loop (mean ± std. dev. of 7 runs, 1 loop each)\n"
     ]
    }
   ],
   "source": [
    "%timeit multi_core_learning = cross_val_score(SVC(gamma = 'auto'), X, y, cv=20, n_jobs=-1)"
   ]
  },
  {
   "cell_type": "markdown",
   "metadata": {},
   "source": [
    "#### Use some but not all of the available CPU cores\n",
    "The performance should be worse, though more CPU cores are available for other tasks running on your system"
   ]
  },
  {
   "cell_type": "code",
   "execution_count": 11,
   "metadata": {},
   "outputs": [
    {
     "name": "stdout",
     "output_type": "stream",
     "text": [
      "6.02 s ± 365 ms per loop (mean ± std. dev. of 7 runs, 1 loop each)\n"
     ]
    }
   ],
   "source": [
    "%timeit multi_core_learning = cross_val_score(SVC(gamma = 'auto'), X, y, cv=20, n_jobs=2)"
   ]
  },
  {
   "cell_type": "code",
   "execution_count": 11,
   "metadata": {},
   "outputs": [
    {
     "name": "stdout",
     "output_type": "stream",
     "text": [
      "Collecting dask-ml\n",
      "  Downloading dask_ml-1.9.0-py3-none-any.whl (143 kB)\n",
      "\u001b[K     |████████████████████████████████| 143 kB 1.6 MB/s eta 0:00:01\n",
      "\u001b[?25hRequirement already satisfied: pandas>=0.24.2 in /opt/anaconda3/lib/python3.8/site-packages (from dask-ml) (1.2.4)\n",
      "Requirement already satisfied: multipledispatch>=0.4.9 in /opt/anaconda3/lib/python3.8/site-packages (from dask-ml) (0.6.0)\n",
      "Requirement already satisfied: packaging in /opt/anaconda3/lib/python3.8/site-packages (from dask-ml) (20.9)\n",
      "Requirement already satisfied: numpy>=1.17.3 in /opt/anaconda3/lib/python3.8/site-packages (from dask-ml) (1.19.2)\n",
      "Requirement already satisfied: dask[array,dataframe]>=2.4.0 in /opt/anaconda3/lib/python3.8/site-packages (from dask-ml) (2021.4.0)\n",
      "Requirement already satisfied: scipy in /opt/anaconda3/lib/python3.8/site-packages (from dask-ml) (1.6.2)\n",
      "Requirement already satisfied: scikit-learn>=0.23 in /opt/anaconda3/lib/python3.8/site-packages (from dask-ml) (0.24.1)\n",
      "Collecting dask-glm>=0.2.0\n",
      "  Downloading dask_glm-0.2.0-py2.py3-none-any.whl (12 kB)\n",
      "Requirement already satisfied: distributed>=2.4.0 in /opt/anaconda3/lib/python3.8/site-packages (from dask-ml) (2021.4.0)\n",
      "Requirement already satisfied: numba>=0.51.0 in /opt/anaconda3/lib/python3.8/site-packages (from dask-ml) (0.53.1)\n",
      "Requirement already satisfied: cloudpickle>=0.2.2 in /opt/anaconda3/lib/python3.8/site-packages (from dask-glm>=0.2.0->dask-ml) (1.6.0)\n",
      "Requirement already satisfied: toolz>=0.8.2 in /opt/anaconda3/lib/python3.8/site-packages (from dask[array,dataframe]>=2.4.0->dask-ml) (0.11.1)\n",
      "Requirement already satisfied: pyyaml in /opt/anaconda3/lib/python3.8/site-packages (from dask[array,dataframe]>=2.4.0->dask-ml) (5.4.1)\n",
      "Requirement already satisfied: partd>=0.3.10 in /opt/anaconda3/lib/python3.8/site-packages (from dask[array,dataframe]>=2.4.0->dask-ml) (1.2.0)\n",
      "Requirement already satisfied: fsspec>=0.6.0 in /opt/anaconda3/lib/python3.8/site-packages (from dask[array,dataframe]>=2.4.0->dask-ml) (0.9.0)\n",
      "Requirement already satisfied: sortedcontainers!=2.0.0,!=2.0.1 in /opt/anaconda3/lib/python3.8/site-packages (from distributed>=2.4.0->dask-ml) (2.3.0)\n",
      "Requirement already satisfied: zict>=0.1.3 in /opt/anaconda3/lib/python3.8/site-packages (from distributed>=2.4.0->dask-ml) (2.0.0)\n",
      "Requirement already satisfied: tornado>=6.0.3 in /opt/anaconda3/lib/python3.8/site-packages (from distributed>=2.4.0->dask-ml) (6.1)\n",
      "Requirement already satisfied: click>=6.6 in /opt/anaconda3/lib/python3.8/site-packages (from distributed>=2.4.0->dask-ml) (7.1.2)\n",
      "Requirement already satisfied: setuptools in /opt/anaconda3/lib/python3.8/site-packages (from distributed>=2.4.0->dask-ml) (52.0.0.post20210125)\n",
      "Requirement already satisfied: psutil>=5.0 in /opt/anaconda3/lib/python3.8/site-packages (from distributed>=2.4.0->dask-ml) (5.8.0)\n",
      "Requirement already satisfied: tblib>=1.6.0 in /opt/anaconda3/lib/python3.8/site-packages (from distributed>=2.4.0->dask-ml) (1.7.0)\n",
      "Requirement already satisfied: msgpack>=0.6.0 in /opt/anaconda3/lib/python3.8/site-packages (from distributed>=2.4.0->dask-ml) (1.0.2)\n",
      "Requirement already satisfied: six in /opt/anaconda3/lib/python3.8/site-packages (from multipledispatch>=0.4.9->dask-ml) (1.15.0)\n",
      "Requirement already satisfied: llvmlite<0.37,>=0.36.0rc1 in /opt/anaconda3/lib/python3.8/site-packages (from numba>=0.51.0->dask-ml) (0.36.0)\n",
      "Requirement already satisfied: python-dateutil>=2.7.3 in /opt/anaconda3/lib/python3.8/site-packages (from pandas>=0.24.2->dask-ml) (2.8.1)\n",
      "Requirement already satisfied: pytz>=2017.3 in /opt/anaconda3/lib/python3.8/site-packages (from pandas>=0.24.2->dask-ml) (2021.1)\n",
      "Requirement already satisfied: locket in /opt/anaconda3/lib/python3.8/site-packages/locket-0.2.1-py3.8.egg (from partd>=0.3.10->dask[array,dataframe]>=2.4.0->dask-ml) (0.2.1)\n",
      "Requirement already satisfied: threadpoolctl>=2.0.0 in /opt/anaconda3/lib/python3.8/site-packages (from scikit-learn>=0.23->dask-ml) (2.1.0)\n",
      "Requirement already satisfied: joblib>=0.11 in /opt/anaconda3/lib/python3.8/site-packages (from scikit-learn>=0.23->dask-ml) (1.0.1)\n",
      "Requirement already satisfied: heapdict in /opt/anaconda3/lib/python3.8/site-packages (from zict>=0.1.3->distributed>=2.4.0->dask-ml) (1.0.1)\n",
      "Requirement already satisfied: pyparsing>=2.0.2 in /opt/anaconda3/lib/python3.8/site-packages (from packaging->dask-ml) (2.4.7)\n",
      "Installing collected packages: dask-glm, dask-ml\n",
      "Successfully installed dask-glm-0.2.0 dask-ml-1.9.0\n"
     ]
    }
   ],
   "source": [
    "!pip install dask-ml"
   ]
  },
  {
   "cell_type": "code",
   "execution_count": 12,
   "metadata": {},
   "outputs": [
    {
     "name": "stdout",
     "output_type": "stream",
     "text": [
      "Requirement already satisfied: dask in /opt/anaconda3/lib/python3.8/site-packages (2021.4.0)\n",
      "Collecting dask\n",
      "  Downloading dask-2021.4.1-py3-none-any.whl (952 kB)\n",
      "\u001b[K     |████████████████████████████████| 952 kB 1.5 MB/s eta 0:00:01\n",
      "\u001b[?25hRequirement already satisfied: distributed in /opt/anaconda3/lib/python3.8/site-packages (2021.4.0)\n",
      "Collecting distributed\n",
      "  Downloading distributed-2021.4.1-py3-none-any.whl (696 kB)\n",
      "\u001b[K     |████████████████████████████████| 696 kB 3.8 MB/s eta 0:00:01\n",
      "\u001b[?25hRequirement already satisfied: toolz>=0.8.2 in /opt/anaconda3/lib/python3.8/site-packages (from dask) (0.11.1)\n",
      "Requirement already satisfied: fsspec>=0.6.0 in /opt/anaconda3/lib/python3.8/site-packages (from dask) (0.9.0)\n",
      "Requirement already satisfied: pyyaml in /opt/anaconda3/lib/python3.8/site-packages (from dask) (5.4.1)\n",
      "Requirement already satisfied: partd>=0.3.10 in /opt/anaconda3/lib/python3.8/site-packages (from dask) (1.2.0)\n",
      "Requirement already satisfied: cloudpickle>=1.1.1 in /opt/anaconda3/lib/python3.8/site-packages (from dask) (1.6.0)\n",
      "Requirement already satisfied: locket in /opt/anaconda3/lib/python3.8/site-packages/locket-0.2.1-py3.8.egg (from partd>=0.3.10->dask) (0.2.1)\n",
      "Requirement already satisfied: tornado>=6.0.3 in /opt/anaconda3/lib/python3.8/site-packages (from distributed) (6.1)\n",
      "Requirement already satisfied: zict>=0.1.3 in /opt/anaconda3/lib/python3.8/site-packages (from distributed) (2.0.0)\n",
      "Requirement already satisfied: click>=6.6 in /opt/anaconda3/lib/python3.8/site-packages (from distributed) (7.1.2)\n",
      "Requirement already satisfied: setuptools in /opt/anaconda3/lib/python3.8/site-packages (from distributed) (52.0.0.post20210125)\n",
      "Requirement already satisfied: tblib>=1.6.0 in /opt/anaconda3/lib/python3.8/site-packages (from distributed) (1.7.0)\n",
      "Requirement already satisfied: sortedcontainers!=2.0.0,!=2.0.1 in /opt/anaconda3/lib/python3.8/site-packages (from distributed) (2.3.0)\n",
      "Requirement already satisfied: psutil>=5.0 in /opt/anaconda3/lib/python3.8/site-packages (from distributed) (5.8.0)\n",
      "Requirement already satisfied: msgpack>=0.6.0 in /opt/anaconda3/lib/python3.8/site-packages (from distributed) (1.0.2)\n",
      "Requirement already satisfied: heapdict in /opt/anaconda3/lib/python3.8/site-packages (from zict>=0.1.3->distributed) (1.0.1)\n",
      "Installing collected packages: dask, distributed\n",
      "  Attempting uninstall: dask\n",
      "    Found existing installation: dask 2021.4.0\n",
      "    Uninstalling dask-2021.4.0:\n",
      "      Successfully uninstalled dask-2021.4.0\n",
      "  Attempting uninstall: distributed\n",
      "    Found existing installation: distributed 2021.4.0\n",
      "    Uninstalling distributed-2021.4.0:\n",
      "      Successfully uninstalled distributed-2021.4.0\n",
      "Successfully installed dask-2021.4.1 distributed-2021.4.1\n"
     ]
    }
   ],
   "source": [
    "!pip install dask distributed -U"
   ]
  },
  {
   "cell_type": "code",
   "execution_count": 13,
   "metadata": {},
   "outputs": [],
   "source": [
    "from dask.distributed import Client\n",
    "\n",
    "from joblib import parallel_backend\n",
    "from sklearn.model_selection import RandomizedSearchCV"
   ]
  },
  {
   "cell_type": "code",
   "execution_count": 14,
   "metadata": {},
   "outputs": [],
   "source": [
    "client = Client(processes=False) "
   ]
  },
  {
   "cell_type": "code",
   "execution_count": 15,
   "metadata": {},
   "outputs": [],
   "source": [
    "param_space = {\n",
    "    'C': np.logspace(-6, 6, 13),\n",
    "    'gamma': np.logspace(-8, 8, 17),\n",
    "    'tol': np.logspace(-4, -1, 4),\n",
    "    'class_weight': [None, 'balanced'],\n",
    "}\n",
    "\n",
    "model = SVC(kernel='rbf')\n",
    "search = RandomizedSearchCV(model, param_space, cv=3, n_iter=50, verbose=10)"
   ]
  },
  {
   "cell_type": "code",
   "execution_count": 16,
   "metadata": {},
   "outputs": [
    {
     "name": "stdout",
     "output_type": "stream",
     "text": [
      "Fitting 3 folds for each of 50 candidates, totalling 150 fits\n",
      "[CV 2/3; 3/50] START C=1.0, class_weight=balanced, gamma=10000000.0, tol=0.01...\n",
      "[CV 2/3; 2/50] START C=100000.0, class_weight=None, gamma=0.0001, tol=0.001.....[CV 2/3; 1/50] START C=1000000.0, class_weight=balanced, gamma=1e-06, tol=0.01..\n",
      "[CV 1/3; 3/50] START C=1.0, class_weight=balanced, gamma=10000000.0, tol=0.01...\n",
      "\n",
      "[CV 2/3; 1/50] END C=1000000.0, class_weight=balanced, gamma=1e-06, tol=0.01; total time=   0.2s\n",
      "[CV 3/3; 2/50] START C=100000.0, class_weight=None, gamma=0.0001, tol=0.001.....\n",
      "[CV 2/3; 2/50] END C=100000.0, class_weight=None, gamma=0.0001, tol=0.001; total time=   0.2s\n",
      "[CV 3/3; 1/50] START C=1000000.0, class_weight=balanced, gamma=1e-06, tol=0.01..\n",
      "[CV 3/3; 1/50] END C=1000000.0, class_weight=balanced, gamma=1e-06, tol=0.01; total time=   0.1s\n",
      "[CV 1/3; 2/50] START C=100000.0, class_weight=None, gamma=0.0001, tol=0.001.....\n",
      "[CV 3/3; 2/50] END C=100000.0, class_weight=None, gamma=0.0001, tol=0.001; total time=   0.2s\n",
      "[CV 1/3; 1/50] START C=1000000.0, class_weight=balanced, gamma=1e-06, tol=0.01..\n",
      "[CV 1/3; 2/50] END C=100000.0, class_weight=None, gamma=0.0001, tol=0.001; total time=   0.2s\n",
      "[CV 1/3; 1/50] END C=1000000.0, class_weight=balanced, gamma=1e-06, tol=0.01; total time=   0.2s\n",
      "[CV 1/3; 4/50] START C=1e-05, class_weight=balanced, gamma=1.0, tol=0.0001......[CV 3/3; 3/50] START C=1.0, class_weight=balanced, gamma=10000000.0, tol=0.01...\n",
      "\n",
      "[CV 2/3; 3/50] END C=1.0, class_weight=balanced, gamma=10000000.0, tol=0.01; total time=   0.6s\n",
      "[CV 1/3; 3/50] END C=1.0, class_weight=balanced, gamma=10000000.0, tol=0.01; total time=   0.6s\n",
      "[CV 3/3; 4/50] START C=1e-05, class_weight=balanced, gamma=1.0, tol=0.0001......\n",
      "[CV 2/3; 4/50] START C=1e-05, class_weight=balanced, gamma=1.0, tol=0.0001......\n",
      "[CV 3/3; 3/50] END C=1.0, class_weight=balanced, gamma=10000000.0, tol=0.01; total time=   0.6s\n",
      "[CV 2/3; 5/50] START C=1000000.0, class_weight=None, gamma=1e-07, tol=0.1.......\n",
      "[CV 1/3; 4/50] END C=1e-05, class_weight=balanced, gamma=1.0, tol=0.0001; total time=   0.6s\n",
      "[CV 1/3; 5/50] START C=1000000.0, class_weight=None, gamma=1e-07, tol=0.1.......\n",
      "[CV 2/3; 4/50] END C=1e-05, class_weight=balanced, gamma=1.0, tol=0.0001; total time=   0.6s\n",
      "[CV 1/3; 6/50] START C=1.0, class_weight=None, gamma=1.0, tol=0.1...............[CV 3/3; 4/50] END C=1e-05, class_weight=balanced, gamma=1.0, tol=0.0001; total time=   0.6s\n",
      "\n",
      "[CV 3/3; 5/50] START C=1000000.0, class_weight=None, gamma=1e-07, tol=0.1.......\n",
      "[CV 2/3; 5/50] END C=1000000.0, class_weight=None, gamma=1e-07, tol=0.1; total time=   0.1s\n",
      "[CV 1/3; 5/50] END C=1000000.0, class_weight=None, gamma=1e-07, tol=0.1; total time=   0.1s\n",
      "[CV 3/3; 6/50] START C=1.0, class_weight=None, gamma=1.0, tol=0.1...............\n",
      "[CV 2/3; 6/50] START C=1.0, class_weight=None, gamma=1.0, tol=0.1...............\n",
      "[CV 3/3; 5/50] END C=1000000.0, class_weight=None, gamma=1e-07, tol=0.1; total time=   0.1s\n",
      "[CV 2/3; 7/50] START C=1e-05, class_weight=None, gamma=10000000.0, tol=0.1......\n",
      "[CV 1/3; 6/50] END C=1.0, class_weight=None, gamma=1.0, tol=0.1; total time=   0.6s\n",
      "[CV 1/3; 7/50] START C=1e-05, class_weight=None, gamma=10000000.0, tol=0.1......\n",
      "[CV 3/3; 6/50] END C=1.0, class_weight=None, gamma=1.0, tol=0.1; total time=   0.7s\n",
      "[CV 1/3; 8/50] START C=1.0, class_weight=balanced, gamma=1.0, tol=0.1...........\n",
      "[CV 2/3; 6/50] END C=1.0, class_weight=None, gamma=1.0, tol=0.1; total time=   0.7s\n",
      "[CV 3/3; 7/50] START C=1e-05, class_weight=None, gamma=10000000.0, tol=0.1......\n",
      "[CV 2/3; 7/50] END C=1e-05, class_weight=None, gamma=10000000.0, tol=0.1; total time=   0.7s\n",
      "[CV 2/3; 8/50] START C=1.0, class_weight=balanced, gamma=1.0, tol=0.1...........\n",
      "[CV 1/3; 7/50] END C=1e-05, class_weight=None, gamma=10000000.0, tol=0.1; total time=   0.6s\n",
      "[CV 2/3; 9/50] START C=0.1, class_weight=balanced, gamma=10000.0, tol=0.1.......\n",
      "[CV 3/3; 7/50] END C=1e-05, class_weight=None, gamma=10000000.0, tol=0.1; total time=   0.6s\n",
      "[CV 1/3; 9/50] START C=0.1, class_weight=balanced, gamma=10000.0, tol=0.1.......\n",
      "[CV 1/3; 8/50] END C=1.0, class_weight=balanced, gamma=1.0, tol=0.1; total time=   0.7s\n",
      "[CV 3/3; 8/50] START C=1.0, class_weight=balanced, gamma=1.0, tol=0.1...........\n",
      "[CV 2/3; 8/50] END C=1.0, class_weight=balanced, gamma=1.0, tol=0.1; total time=   0.6s\n",
      "[CV 3/3; 9/50] START C=0.1, class_weight=balanced, gamma=10000.0, tol=0.1.......\n",
      "[CV 2/3; 9/50] END C=0.1, class_weight=balanced, gamma=10000.0, tol=0.1; total time=   0.7s\n",
      "[CV 2/3; 10/50] START C=0.1, class_weight=balanced, gamma=0.0001, tol=0.001.....\n",
      "[CV 3/3; 8/50] END C=1.0, class_weight=balanced, gamma=1.0, tol=0.1; total time=   0.7s\n",
      "[CV 1/3; 10/50] START C=0.1, class_weight=balanced, gamma=0.0001, tol=0.001.....\n",
      "[CV 1/3; 9/50] END C=0.1, class_weight=balanced, gamma=10000.0, tol=0.1; total time=   0.8s\n",
      "[CV 1/3; 11/50] START C=1000000.0, class_weight=balanced, gamma=1e-07, tol=0.01.\n",
      "[CV 3/3; 9/50] END C=0.1, class_weight=balanced, gamma=10000.0, tol=0.1; total time=   0.8s\n",
      "[CV 3/3; 10/50] START C=0.1, class_weight=balanced, gamma=0.0001, tol=0.001.....\n",
      "[CV 1/3; 11/50] END C=1000000.0, class_weight=balanced, gamma=1e-07, tol=0.01; total time=   0.2s\n",
      "[CV 2/3; 11/50] START C=1000000.0, class_weight=balanced, gamma=1e-07, tol=0.01.\n",
      "[CV 2/3; 11/50] END C=1000000.0, class_weight=balanced, gamma=1e-07, tol=0.01; total time=   0.1s\n",
      "[CV 1/3; 12/50] START C=1e-06, class_weight=None, gamma=1e-06, tol=0.0001.......\n",
      "[CV 2/3; 10/50] END C=0.1, class_weight=balanced, gamma=0.0001, tol=0.001; total time=   0.7s\n",
      "[CV 3/3; 11/50] START C=1000000.0, class_weight=balanced, gamma=1e-07, tol=0.01.\n",
      "[CV 1/3; 10/50] END C=0.1, class_weight=balanced, gamma=0.0001, tol=0.001; total time=   0.6s\n",
      "[CV 3/3; 12/50] START C=1e-06, class_weight=None, gamma=1e-06, tol=0.0001.......\n",
      "[CV 3/3; 10/50] END C=0.1, class_weight=balanced, gamma=0.0001, tol=0.001; total time=   0.6s\n",
      "[CV 2/3; 12/50] START C=1e-06, class_weight=None, gamma=1e-06, tol=0.0001.......\n",
      "[CV 3/3; 11/50] END C=1000000.0, class_weight=balanced, gamma=1e-07, tol=0.01; total time=   0.2s\n",
      "[CV 1/3; 13/50] START C=1e-06, class_weight=None, gamma=10000.0, tol=0.001......\n",
      "[CV 1/3; 12/50] END C=1e-06, class_weight=None, gamma=1e-06, tol=0.0001; total time=   0.7s\n",
      "[CV 3/3; 13/50] START C=1e-06, class_weight=None, gamma=10000.0, tol=0.001......\n",
      "[CV 3/3; 12/50] END C=1e-06, class_weight=None, gamma=1e-06, tol=0.0001; total time=   0.7s\n",
      "[CV 2/3; 13/50] START C=1e-06, class_weight=None, gamma=10000.0, tol=0.001......\n",
      "[CV 1/3; 13/50] END C=1e-06, class_weight=None, gamma=10000.0, tol=0.001; total time=   0.7s\n",
      "[CV 2/3; 14/50] START C=0.001, class_weight=balanced, gamma=0.0001, tol=0.1.....\n",
      "[CV 2/3; 12/50] END C=1e-06, class_weight=None, gamma=1e-06, tol=0.0001; total time=   0.7s\n",
      "[CV 1/3; 14/50] START C=0.001, class_weight=balanced, gamma=0.0001, tol=0.1.....\n",
      "[CV 3/3; 13/50] END C=1e-06, class_weight=None, gamma=10000.0, tol=0.001; total time=   0.6s\n",
      "[CV 3/3; 14/50] START C=0.001, class_weight=balanced, gamma=0.0001, tol=0.1.....\n",
      "[CV 2/3; 13/50] END C=1e-06, class_weight=None, gamma=10000.0, tol=0.001; total time=   0.6s\n",
      "[CV 1/3; 15/50] START C=100000.0, class_weight=balanced, gamma=0.1, tol=0.01....\n",
      "[CV 2/3; 14/50] END C=0.001, class_weight=balanced, gamma=0.0001, tol=0.1; total time=   0.6s\n",
      "[CV 3/3; 15/50] START C=100000.0, class_weight=balanced, gamma=0.1, tol=0.01....\n",
      "[CV 1/3; 14/50] END C=0.001, class_weight=balanced, gamma=0.0001, tol=0.1; total time=   0.6s\n",
      "[CV 2/3; 15/50] START C=100000.0, class_weight=balanced, gamma=0.1, tol=0.01....\n",
      "[CV 3/3; 14/50] END C=0.001, class_weight=balanced, gamma=0.0001, tol=0.1; total time=   0.6s\n",
      "[CV 1/3; 16/50] START C=1000000.0, class_weight=balanced, gamma=1.0, tol=0.01...\n",
      "[CV 1/3; 15/50] END C=100000.0, class_weight=balanced, gamma=0.1, tol=0.01; total time=   0.7s\n",
      "[CV 2/3; 16/50] START C=1000000.0, class_weight=balanced, gamma=1.0, tol=0.01...\n",
      "[CV 3/3; 15/50] END C=100000.0, class_weight=balanced, gamma=0.1, tol=0.01; total time=   0.7s\n",
      "[CV 1/3; 17/50] START C=10000.0, class_weight=balanced, gamma=0.1, tol=0.1......\n",
      "[CV 2/3; 15/50] END C=100000.0, class_weight=balanced, gamma=0.1, tol=0.01; total time=   0.7s\n",
      "[CV 3/3; 16/50] START C=1000000.0, class_weight=balanced, gamma=1.0, tol=0.01...\n"
     ]
    },
    {
     "name": "stdout",
     "output_type": "stream",
     "text": [
      "[CV 1/3; 16/50] END C=1000000.0, class_weight=balanced, gamma=1.0, tol=0.01; total time=   0.6s\n",
      "[CV 2/3; 17/50] START C=10000.0, class_weight=balanced, gamma=0.1, tol=0.1......\n",
      "[CV 2/3; 16/50] END C=1000000.0, class_weight=balanced, gamma=1.0, tol=0.01; total time=   0.6s\n",
      "[CV 3/3; 17/50] START C=10000.0, class_weight=balanced, gamma=0.1, tol=0.1......\n",
      "[CV 1/3; 17/50] END C=10000.0, class_weight=balanced, gamma=0.1, tol=0.1; total time=   0.6s\n",
      "[CV 2/3; 18/50] START C=10000.0, class_weight=None, gamma=1000.0, tol=0.001.....\n",
      "[CV 3/3; 16/50] END C=1000000.0, class_weight=balanced, gamma=1.0, tol=0.01; total time=   0.6s\n",
      "[CV 1/3; 18/50] START C=10000.0, class_weight=None, gamma=1000.0, tol=0.001.....\n",
      "[CV 2/3; 17/50] END C=10000.0, class_weight=balanced, gamma=0.1, tol=0.1; total time=   0.6s\n",
      "[CV 3/3; 18/50] START C=10000.0, class_weight=None, gamma=1000.0, tol=0.001.....\n",
      "[CV 3/3; 17/50] END C=10000.0, class_weight=balanced, gamma=0.1, tol=0.1; total time=   0.6s\n",
      "[CV 1/3; 19/50] START C=1e-06, class_weight=None, gamma=100000.0, tol=0.0001....\n",
      "[CV 1/3; 18/50] END C=10000.0, class_weight=None, gamma=1000.0, tol=0.001; total time=   0.6s\n",
      "[CV 2/3; 18/50] END C=10000.0, class_weight=None, gamma=1000.0, tol=0.001; total time=   0.7s[CV 3/3; 19/50] START C=1e-06, class_weight=None, gamma=100000.0, tol=0.0001....\n",
      "\n",
      "[CV 2/3; 19/50] START C=1e-06, class_weight=None, gamma=100000.0, tol=0.0001....\n",
      "[CV 3/3; 18/50] END C=10000.0, class_weight=None, gamma=1000.0, tol=0.001; total time=   0.6s\n",
      "[CV 1/3; 20/50] START C=1000000.0, class_weight=balanced, gamma=100.0, tol=0.01.\n",
      "[CV 1/3; 19/50] END C=1e-06, class_weight=None, gamma=100000.0, tol=0.0001; total time=   0.6s\n",
      "[CV 2/3; 20/50] START C=1000000.0, class_weight=balanced, gamma=100.0, tol=0.01.\n",
      "[CV 3/3; 19/50] END C=1e-06, class_weight=None, gamma=100000.0, tol=0.0001; total time=   0.6s\n",
      "[CV 1/3; 21/50] START C=0.1, class_weight=None, gamma=1e-07, tol=0.0001.........\n",
      "[CV 2/3; 19/50] END C=1e-06, class_weight=None, gamma=100000.0, tol=0.0001; total time=   0.6s\n",
      "[CV 3/3; 20/50] START C=1000000.0, class_weight=balanced, gamma=100.0, tol=0.01.\n",
      "[CV 1/3; 20/50] END C=1000000.0, class_weight=balanced, gamma=100.0, tol=0.01; total time=   0.7s\n",
      "[CV 2/3; 21/50] START C=0.1, class_weight=None, gamma=1e-07, tol=0.0001.........\n",
      "[CV 2/3; 20/50] END C=1000000.0, class_weight=balanced, gamma=100.0, tol=0.01; total time=   0.7s\n",
      "[CV 3/3; 21/50] START C=0.1, class_weight=None, gamma=1e-07, tol=0.0001.........\n",
      "[CV 3/3; 20/50] END C=1000000.0, class_weight=balanced, gamma=100.0, tol=0.01; total time=   0.8s\n",
      "[CV 2/3; 22/50] START C=10000.0, class_weight=balanced, gamma=100.0, tol=0.1....\n",
      "[CV 1/3; 21/50] END C=0.1, class_weight=None, gamma=1e-07, tol=0.0001; total time=   0.8s\n",
      "[CV 1/3; 22/50] START C=10000.0, class_weight=balanced, gamma=100.0, tol=0.1....\n",
      "[CV 2/3; 21/50] END C=0.1, class_weight=None, gamma=1e-07, tol=0.0001; total time=   0.8s\n",
      "[CV 3/3; 22/50] START C=10000.0, class_weight=balanced, gamma=100.0, tol=0.1....\n",
      "[CV 3/3; 21/50] END C=0.1, class_weight=None, gamma=1e-07, tol=0.0001; total time=   0.8s\n",
      "[CV 1/3; 23/50] START C=100.0, class_weight=None, gamma=1e-05, tol=0.001........\n",
      "[CV 1/3; 22/50] END C=10000.0, class_weight=balanced, gamma=100.0, tol=0.1; total time=   0.7s\n",
      "[CV 3/3; 23/50] START C=100.0, class_weight=None, gamma=1e-05, tol=0.001........\n",
      "[CV 2/3; 22/50] END C=10000.0, class_weight=balanced, gamma=100.0, tol=0.1; total time=   0.8s\n",
      "[CV 1/3; 23/50] END C=100.0, class_weight=None, gamma=1e-05, tol=0.001; total time=   0.2s[CV 2/3; 23/50] START C=100.0, class_weight=None, gamma=1e-05, tol=0.001........\n",
      "\n",
      "[CV 1/3; 24/50] START C=1000000.0, class_weight=balanced, gamma=0.1, tol=0.01...\n",
      "[CV 3/3; 23/50] END C=100.0, class_weight=None, gamma=1e-05, tol=0.001; total time=   0.2s\n",
      "[CV 2/3; 24/50] START C=1000000.0, class_weight=balanced, gamma=0.1, tol=0.01...\n",
      "[CV 2/3; 23/50] END C=100.0, class_weight=None, gamma=1e-05, tol=0.001; total time=   0.2s\n",
      "[CV 2/3; 25/50] START C=1e-06, class_weight=None, gamma=10.0, tol=0.01..........\n",
      "[CV 3/3; 22/50] END C=10000.0, class_weight=balanced, gamma=100.0, tol=0.1; total time=   0.7s\n",
      "[CV 1/3; 25/50] START C=1e-06, class_weight=None, gamma=10.0, tol=0.01..........\n",
      "[CV 1/3; 24/50] END C=1000000.0, class_weight=balanced, gamma=0.1, tol=0.01; total time=   0.7s\n",
      "[CV 3/3; 24/50] START C=1000000.0, class_weight=balanced, gamma=0.1, tol=0.01...\n",
      "[CV 2/3; 25/50] END C=1e-06, class_weight=None, gamma=10.0, tol=0.01; total time=   0.6s\n",
      "[CV 1/3; 26/50] START C=1.0, class_weight=None, gamma=10000000.0, tol=0.001.....\n",
      "[CV 1/3; 25/50] END C=1e-06, class_weight=None, gamma=10.0, tol=0.01; total time=   0.6s\n",
      "[CV 3/3; 25/50] START C=1e-06, class_weight=None, gamma=10.0, tol=0.01..........\n",
      "[CV 2/3; 24/50] END C=1000000.0, class_weight=balanced, gamma=0.1, tol=0.01; total time=   0.7s\n",
      "[CV 2/3; 26/50] START C=1.0, class_weight=None, gamma=10000000.0, tol=0.001.....\n",
      "[CV 1/3; 26/50] END C=1.0, class_weight=None, gamma=10000000.0, tol=0.001; total time=   0.6s\n",
      "[CV 1/3; 27/50] START C=0.01, class_weight=None, gamma=100000000.0, tol=0.0001..\n",
      "[CV 3/3; 25/50] END C=1e-06, class_weight=None, gamma=10.0, tol=0.01; total time=   0.6s\n",
      "[CV 3/3; 26/50] START C=1.0, class_weight=None, gamma=10000000.0, tol=0.001.....\n",
      "[CV 3/3; 24/50] END C=1000000.0, class_weight=balanced, gamma=0.1, tol=0.01; total time=   0.7s\n",
      "[CV 3/3; 27/50] START C=0.01, class_weight=None, gamma=100000000.0, tol=0.0001..\n",
      "[CV 2/3; 26/50] END C=1.0, class_weight=None, gamma=10000000.0, tol=0.001; total time=   0.7s\n",
      "[CV 2/3; 27/50] START C=0.01, class_weight=None, gamma=100000000.0, tol=0.0001..\n",
      "[CV 1/3; 27/50] END C=0.01, class_weight=None, gamma=100000000.0, tol=0.0001; total time=   0.6s\n",
      "[CV 1/3; 29/50] START C=10000.0, class_weight=None, gamma=0.001, tol=0.001......\n",
      "[CV 3/3; 27/50] END C=0.01, class_weight=None, gamma=100000000.0, tol=0.0001; total time=   0.6s\n",
      "[CV 3/3; 28/50] START C=1e-06, class_weight=None, gamma=0.01, tol=0.01..........\n",
      "[CV 3/3; 26/50] END C=1.0, class_weight=None, gamma=10000000.0, tol=0.001; total time=   0.6s\n",
      "[CV 2/3; 28/50] START C=1e-06, class_weight=None, gamma=0.01, tol=0.01..........\n",
      "[CV 2/3; 27/50] END C=0.01, class_weight=None, gamma=100000000.0, tol=0.0001; total time=   0.6s\n",
      "[CV 1/3; 28/50] START C=1e-06, class_weight=None, gamma=0.01, tol=0.01..........\n",
      "[CV 1/3; 29/50] END C=10000.0, class_weight=None, gamma=0.001, tol=0.001; total time=   0.3s\n",
      "[CV 1/3; 30/50] START C=1e-05, class_weight=None, gamma=0.001, tol=0.0001.......\n",
      "[CV 3/3; 28/50] END C=1e-06, class_weight=None, gamma=0.01, tol=0.01; total time=   0.7s\n",
      "[CV 3/3; 29/50] START C=10000.0, class_weight=None, gamma=0.001, tol=0.001......\n",
      "[CV 2/3; 28/50] END C=1e-06, class_weight=None, gamma=0.01, tol=0.01; total time=   0.7s\n",
      "[CV 2/3; 29/50] START C=10000.0, class_weight=None, gamma=0.001, tol=0.001......\n",
      "[CV 1/3; 28/50] END C=1e-06, class_weight=None, gamma=0.01, tol=0.01; total time=   0.7s\n",
      "[CV 2/3; 30/50] START C=1e-05, class_weight=None, gamma=0.001, tol=0.0001.......\n",
      "[CV 1/3; 30/50] END C=1e-05, class_weight=None, gamma=0.001, tol=0.0001; total time=   0.7s\n",
      "[CV 3/3; 30/50] START C=1e-05, class_weight=None, gamma=0.001, tol=0.0001.......\n",
      "[CV 2/3; 29/50] END C=10000.0, class_weight=None, gamma=0.001, tol=0.001; total time=   0.3s\n",
      "[CV 3/3; 31/50] START C=100000.0, class_weight=None, gamma=0.1, tol=0.01........\n",
      "[CV 3/3; 29/50] END C=10000.0, class_weight=None, gamma=0.001, tol=0.001; total time=   0.3s\n",
      "[CV 2/3; 31/50] START C=100000.0, class_weight=None, gamma=0.1, tol=0.01........\n",
      "[CV 2/3; 30/50] END C=1e-05, class_weight=None, gamma=0.001, tol=0.0001; total time=   0.7s\n",
      "[CV 1/3; 31/50] START C=100000.0, class_weight=None, gamma=0.1, tol=0.01........\n",
      "[CV 3/3; 30/50] END C=1e-05, class_weight=None, gamma=0.001, tol=0.0001; total time=   0.7s\n",
      "[CV 3/3; 32/50] START C=1000000.0, class_weight=None, gamma=1000.0, tol=0.0001..\n",
      "[CV 3/3; 31/50] END C=100000.0, class_weight=None, gamma=0.1, tol=0.01; total time=   0.7s\n",
      "[CV 2/3; 32/50] START C=1000000.0, class_weight=None, gamma=1000.0, tol=0.0001..[CV 2/3; 31/50] END C=100000.0, class_weight=None, gamma=0.1, tol=0.01; total time=   0.7s\n",
      "\n",
      "[CV 1/3; 32/50] START C=1000000.0, class_weight=None, gamma=1000.0, tol=0.0001..\n"
     ]
    },
    {
     "name": "stdout",
     "output_type": "stream",
     "text": [
      "[CV 1/3; 31/50] END C=100000.0, class_weight=None, gamma=0.1, tol=0.01; total time=   0.7s\n",
      "[CV 1/3; 33/50] START C=10000.0, class_weight=None, gamma=1.0, tol=0.001........\n",
      "[CV 3/3; 32/50] END C=1000000.0, class_weight=None, gamma=1000.0, tol=0.0001; total time=   0.7s\n",
      "[CV 2/3; 33/50] START C=10000.0, class_weight=None, gamma=1.0, tol=0.001........\n",
      "[CV 2/3; 32/50] END C=1000000.0, class_weight=None, gamma=1000.0, tol=0.0001; total time=   0.7s\n",
      "[CV 1/3; 34/50] START C=0.01, class_weight=balanced, gamma=0.1, tol=0.01........\n",
      "[CV 1/3; 32/50] END C=1000000.0, class_weight=None, gamma=1000.0, tol=0.0001; total time=   0.7s\n",
      "[CV 3/3; 33/50] START C=10000.0, class_weight=None, gamma=1.0, tol=0.001........\n",
      "[CV 1/3; 33/50] END C=10000.0, class_weight=None, gamma=1.0, tol=0.001; total time=   0.7s\n",
      "[CV 2/3; 34/50] START C=0.01, class_weight=balanced, gamma=0.1, tol=0.01........\n",
      "[CV 2/3; 33/50] END C=10000.0, class_weight=None, gamma=1.0, tol=0.001; total time=   0.7s\n",
      "[CV 3/3; 34/50] START C=0.01, class_weight=balanced, gamma=0.1, tol=0.01........\n",
      "[CV 1/3; 34/50] END C=0.01, class_weight=balanced, gamma=0.1, tol=0.01; total time=   0.7s\n",
      "[CV 2/3; 35/50] START C=10.0, class_weight=None, gamma=100.0, tol=0.0001........\n",
      "[CV 3/3; 33/50] END C=10000.0, class_weight=None, gamma=1.0, tol=0.001; total time=   0.8s\n",
      "[CV 1/3; 35/50] START C=10.0, class_weight=None, gamma=100.0, tol=0.0001........\n",
      "[CV 2/3; 34/50] END C=0.01, class_weight=balanced, gamma=0.1, tol=0.01; total time=   0.8s\n",
      "[CV 3/3; 35/50] START C=10.0, class_weight=None, gamma=100.0, tol=0.0001........\n",
      "[CV 3/3; 34/50] END C=0.01, class_weight=balanced, gamma=0.1, tol=0.01; total time=   0.7s\n",
      "[CV 1/3; 36/50] START C=10.0, class_weight=balanced, gamma=1e-05, tol=0.01......\n",
      "[CV 2/3; 35/50] END C=10.0, class_weight=None, gamma=100.0, tol=0.0001; total time=   0.8s\n",
      "[CV 3/3; 36/50] START C=10.0, class_weight=balanced, gamma=1e-05, tol=0.01......\n",
      "[CV 1/3; 35/50] END C=10.0, class_weight=None, gamma=100.0, tol=0.0001; total time=   0.7s\n",
      "[CV 2/3; 36/50] START C=10.0, class_weight=balanced, gamma=1e-05, tol=0.01......\n",
      "[CV 1/3; 36/50] END C=10.0, class_weight=balanced, gamma=1e-05, tol=0.01; total time=   0.3s\n",
      "[CV 1/3; 37/50] START C=10000.0, class_weight=balanced, gamma=1000.0, tol=0.01..\n",
      "[CV 2/3; 36/50] END C=10.0, class_weight=balanced, gamma=1e-05, tol=0.01; total time=   0.3s\n",
      "[CV 2/3; 37/50] START C=10000.0, class_weight=balanced, gamma=1000.0, tol=0.01..\n",
      "[CV 3/3; 36/50] END C=10.0, class_weight=balanced, gamma=1e-05, tol=0.01; total time=   0.3s\n",
      "[CV 1/3; 38/50] START C=100.0, class_weight=None, gamma=100000.0, tol=0.1.......\n",
      "[CV 3/3; 35/50] END C=10.0, class_weight=None, gamma=100.0, tol=0.0001; total time=   0.8s\n",
      "[CV 3/3; 37/50] START C=10000.0, class_weight=balanced, gamma=1000.0, tol=0.01..\n",
      "[CV 1/3; 37/50] END C=10000.0, class_weight=balanced, gamma=1000.0, tol=0.01; total time=   0.7s\n",
      "[CV 2/3; 38/50] START C=100.0, class_weight=None, gamma=100000.0, tol=0.1.......\n",
      "[CV 1/3; 38/50] END C=100.0, class_weight=None, gamma=100000.0, tol=0.1; total time=   0.6s\n",
      "[CV 1/3; 39/50] START C=1e-06, class_weight=balanced, gamma=1e-07, tol=0.1......\n",
      "[CV 2/3; 37/50] END C=10000.0, class_weight=balanced, gamma=1000.0, tol=0.01; total time=   0.7s\n",
      "[CV 3/3; 38/50] START C=100.0, class_weight=None, gamma=100000.0, tol=0.1.......\n",
      "[CV 3/3; 37/50] END C=10000.0, class_weight=balanced, gamma=1000.0, tol=0.01; total time=   0.7s\n",
      "[CV 2/3; 39/50] START C=1e-06, class_weight=balanced, gamma=1e-07, tol=0.1......\n",
      "[CV 2/3; 38/50] END C=100.0, class_weight=None, gamma=100000.0, tol=0.1; total time=   0.7s\n",
      "[CV 3/3; 39/50] START C=1e-06, class_weight=balanced, gamma=1e-07, tol=0.1......\n",
      "[CV 3/3; 38/50] END C=100.0, class_weight=None, gamma=100000.0, tol=0.1; total time=   0.6s\n",
      "[CV 2/3; 40/50] START C=0.1, class_weight=None, gamma=0.001, tol=0.01...........\n",
      "[CV 1/3; 39/50] END C=1e-06, class_weight=balanced, gamma=1e-07, tol=0.1; total time=   0.7s\n",
      "[CV 1/3; 40/50] START C=0.1, class_weight=None, gamma=0.001, tol=0.01...........\n",
      "[CV 2/3; 39/50] END C=1e-06, class_weight=balanced, gamma=1e-07, tol=0.1; total time=   0.7s\n",
      "[CV 3/3; 40/50] START C=0.1, class_weight=None, gamma=0.001, tol=0.01...........\n",
      "[CV 2/3; 40/50] END C=0.1, class_weight=None, gamma=0.001, tol=0.01; total time=   0.5s\n",
      "[CV 1/3; 41/50] START C=1e-06, class_weight=balanced, gamma=0.001, tol=0.1......\n",
      "[CV 1/3; 40/50] END C=0.1, class_weight=None, gamma=0.001, tol=0.01; total time=   0.5s\n",
      "[CV 3/3; 41/50] START C=1e-06, class_weight=balanced, gamma=0.001, tol=0.1......\n",
      "[CV 3/3; 39/50] END C=1e-06, class_weight=balanced, gamma=1e-07, tol=0.1; total time=   0.7s\n",
      "[CV 2/3; 41/50] START C=1e-06, class_weight=balanced, gamma=0.001, tol=0.1......\n",
      "[CV 3/3; 40/50] END C=0.1, class_weight=None, gamma=0.001, tol=0.01; total time=   0.5s\n",
      "[CV 1/3; 42/50] START C=0.001, class_weight=None, gamma=1000.0, tol=0.1.........\n",
      "[CV 1/3; 41/50] END C=1e-06, class_weight=balanced, gamma=0.001, tol=0.1; total time=   0.7s\n",
      "[CV 1/3; 43/50] START C=1.0, class_weight=None, gamma=1.0, tol=0.01.............\n",
      "[CV 3/3; 41/50] END C=1e-06, class_weight=balanced, gamma=0.001, tol=0.1; total time=   0.7s\n",
      "[CV 3/3; 42/50] START C=0.001, class_weight=None, gamma=1000.0, tol=0.1.........\n",
      "[CV 2/3; 41/50] END C=1e-06, class_weight=balanced, gamma=0.001, tol=0.1; total time=   0.7s\n",
      "[CV 2/3; 42/50] START C=0.001, class_weight=None, gamma=1000.0, tol=0.1.........\n",
      "[CV 1/3; 42/50] END C=0.001, class_weight=None, gamma=1000.0, tol=0.1; total time=   0.6s\n",
      "[CV 2/3; 43/50] START C=1.0, class_weight=None, gamma=1.0, tol=0.01.............\n",
      "[CV 3/3; 42/50] END C=0.001, class_weight=None, gamma=1000.0, tol=0.1; total time=   0.6s\n",
      "[CV 3/3; 44/50] START C=1e-06, class_weight=balanced, gamma=10.0, tol=0.001.....\n",
      "[CV 2/3; 42/50] END C=0.001, class_weight=None, gamma=1000.0, tol=0.1; total time=   0.6s\n",
      "[CV 2/3; 44/50] START C=1e-06, class_weight=balanced, gamma=10.0, tol=0.001.....[CV 1/3; 43/50] END C=1.0, class_weight=None, gamma=1.0, tol=0.01; total time=   0.7s\n",
      "\n",
      "[CV 1/3; 44/50] START C=1e-06, class_weight=balanced, gamma=10.0, tol=0.001.....\n",
      "[CV 2/3; 43/50] END C=1.0, class_weight=None, gamma=1.0, tol=0.01; total time=   0.7s\n",
      "[CV 3/3; 43/50] START C=1.0, class_weight=None, gamma=1.0, tol=0.01.............\n",
      "[CV 3/3; 44/50] END C=1e-06, class_weight=balanced, gamma=10.0, tol=0.001; total time=   0.7s\n",
      "[CV 3/3; 45/50] START C=0.001, class_weight=balanced, gamma=1e-06, tol=0.001....\n",
      "[CV 2/3; 44/50] END C=1e-06, class_weight=balanced, gamma=10.0, tol=0.001; total time=   0.7s[CV 1/3; 44/50] END C=1e-06, class_weight=balanced, gamma=10.0, tol=0.001; total time=   0.7s\n",
      "\n",
      "[CV 2/3; 45/50] START C=0.001, class_weight=balanced, gamma=1e-06, tol=0.001....\n",
      "[CV 1/3; 45/50] START C=0.001, class_weight=balanced, gamma=1e-06, tol=0.001....\n",
      "[CV 3/3; 43/50] END C=1.0, class_weight=None, gamma=1.0, tol=0.01; total time=   0.7s\n",
      "[CV 1/3; 46/50] START C=100000.0, class_weight=None, gamma=100000.0, tol=0.001..\n",
      "[CV 3/3; 45/50] END C=0.001, class_weight=balanced, gamma=1e-06, tol=0.001; total time=   0.7s\n",
      "[CV 2/3; 45/50] END C=0.001, class_weight=balanced, gamma=1e-06, tol=0.001; total time=   0.7s\n",
      "[CV 2/3; 47/50] START C=0.0001, class_weight=balanced, gamma=1e-07, tol=0.1.....\n",
      "[CV 1/3; 45/50] END C=0.001, class_weight=balanced, gamma=1e-06, tol=0.001; total time=   0.7s\n",
      "[CV 1/3; 47/50] START C=0.0001, class_weight=balanced, gamma=1e-07, tol=0.1.....\n",
      "[CV 3/3; 46/50] START C=100000.0, class_weight=None, gamma=100000.0, tol=0.001..\n",
      "[CV 1/3; 46/50] END C=100000.0, class_weight=None, gamma=100000.0, tol=0.001; total time=   0.7s\n",
      "[CV 2/3; 46/50] START C=100000.0, class_weight=None, gamma=100000.0, tol=0.001..\n",
      "[CV 1/3; 47/50] END C=0.0001, class_weight=balanced, gamma=1e-07, tol=0.1; total time=   0.7s\n",
      "[CV 3/3; 48/50] START C=0.001, class_weight=None, gamma=1.0, tol=0.1............\n",
      "[CV 2/3; 47/50] END C=0.0001, class_weight=balanced, gamma=1e-07, tol=0.1; total time=   0.7s\n",
      "[CV 2/3; 48/50] START C=0.001, class_weight=None, gamma=1.0, tol=0.1............\n",
      "[CV 3/3; 46/50] END C=100000.0, class_weight=None, gamma=100000.0, tol=0.001; total time=   0.7s\n",
      "[CV 1/3; 48/50] START C=0.001, class_weight=None, gamma=1.0, tol=0.1............\n",
      "[CV 2/3; 46/50] END C=100000.0, class_weight=None, gamma=100000.0, tol=0.001; total time=   0.7s\n",
      "[CV 3/3; 47/50] START C=0.0001, class_weight=balanced, gamma=1e-07, tol=0.1.....\n"
     ]
    },
    {
     "name": "stdout",
     "output_type": "stream",
     "text": [
      "[CV 2/3; 48/50] END C=0.001, class_weight=None, gamma=1.0, tol=0.1; total time=   0.6s\n",
      "[CV 3/3; 49/50] START C=0.0001, class_weight=None, gamma=1e-07, tol=0.01........\n",
      "[CV 3/3; 48/50] END C=0.001, class_weight=None, gamma=1.0, tol=0.1; total time=   0.7s\n",
      "[CV 2/3; 49/50] START C=0.0001, class_weight=None, gamma=1e-07, tol=0.01........\n",
      "[CV 1/3; 48/50] END C=0.001, class_weight=None, gamma=1.0, tol=0.1; total time=   0.7s\n",
      "[CV 1/3; 49/50] START C=0.0001, class_weight=None, gamma=1e-07, tol=0.01........\n",
      "[CV 3/3; 47/50] END C=0.0001, class_weight=balanced, gamma=1e-07, tol=0.1; total time=   0.7s\n",
      "[CV 1/3; 50/50] START C=0.0001, class_weight=None, gamma=100.0, tol=0.01........\n",
      "[CV 3/3; 49/50] END C=0.0001, class_weight=None, gamma=1e-07, tol=0.01; total time=   0.7s\n",
      "[CV 3/3; 50/50] START C=0.0001, class_weight=None, gamma=100.0, tol=0.01........\n",
      "[CV 2/3; 49/50] END C=0.0001, class_weight=None, gamma=1e-07, tol=0.01; total time=   0.7s\n",
      "[CV 2/3; 50/50] START C=0.0001, class_weight=None, gamma=100.0, tol=0.01........\n",
      "[CV 1/3; 49/50] END C=0.0001, class_weight=None, gamma=1e-07, tol=0.01; total time=   0.7s\n",
      "[CV 1/3; 50/50] END C=0.0001, class_weight=None, gamma=100.0, tol=0.01; total time=   0.7s\n",
      "[CV 3/3; 50/50] END C=0.0001, class_weight=None, gamma=100.0, tol=0.01; total time=   0.4s\n",
      "[CV 2/3; 50/50] END C=0.0001, class_weight=None, gamma=100.0, tol=0.01; total time=   0.4s\n"
     ]
    }
   ],
   "source": [
    "with parallel_backend('dask'):\n",
    "    search.fit(digits.data, digits.target)"
   ]
  },
  {
   "cell_type": "code",
   "execution_count": null,
   "metadata": {},
   "outputs": [],
   "source": []
  }
 ],
 "metadata": {
  "kernelspec": {
   "display_name": "Python 3",
   "language": "python",
   "name": "python3"
  },
  "language_info": {
   "codemirror_mode": {
    "name": "ipython",
    "version": 3
   },
   "file_extension": ".py",
   "mimetype": "text/x-python",
   "name": "python",
   "nbconvert_exporter": "python",
   "pygments_lexer": "ipython3",
   "version": "3.8.3"
  }
 },
 "nbformat": 4,
 "nbformat_minor": 2
}
